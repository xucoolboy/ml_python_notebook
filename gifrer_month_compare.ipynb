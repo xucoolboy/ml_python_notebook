{
 "cells": [
  {
   "cell_type": "markdown",
   "metadata": {},
   "source": [
    "# gifrer月度运营比较分析\n",
    "   比较2017年12月和2018年1月两个月的运营数据  \n",
    "   从人、货、场出发比较分析两个月的运营质量"
   ]
  },
  {
   "cell_type": "code",
   "execution_count": 1,
   "metadata": {
    "collapsed": true
   },
   "outputs": [],
   "source": [
    "import pandas as pd\n",
    "import numpy as np\n",
    "import matplotlib.pyplot as plt\n",
    "import seaborn as sns\n",
    "%matplotlib inline\n",
    "plt.rcParams['font.sans-serif']=['SimHei']\n",
    "plt.rcParams['axes.unicode_minus']=False#是否可以显示负号"
   ]
  },
  {
   "cell_type": "code",
   "execution_count": 2,
   "metadata": {
    "collapsed": true
   },
   "outputs": [],
   "source": [
    "order_df=pd.read_csv('/Users/xucoolboy/practise/gifrer/gifrer海外旗舰店_utf8.csv')\n",
    "cus_df=pd.read_csv('/Users/xucoolboy/practise/gifrer/gifrer_cus_utf8.csv')"
   ]
  },
  {
   "cell_type": "code",
   "execution_count": 3,
   "metadata": {
    "collapsed": true
   },
   "outputs": [],
   "source": [
    "#时间格式转换\n",
    "order_df['付款时间']=pd.to_datetime(order_df.付款时间)\n",
    "order_df['创建时间']=pd.to_datetime(order_df.创建时间)\n",
    "cus_df['淘宝注册时间']=pd.to_datetime(cus_df.淘宝注册时间)\n",
    "cus_df['最近交易时间']=pd.to_datetime(cus_df.最近交易时间)\n",
    "order_df['付款年月']=order_df.付款时间.values.astype('datetime64[M]')"
   ]
  },
  {
   "cell_type": "code",
   "execution_count": 4,
   "metadata": {
    "collapsed": true
   },
   "outputs": [],
   "source": [
    "order_df['订单号']=order_df['订单号'].astype('str')\n",
    "order_df.insert(1,'订单标识',order_df['订单号'].str[0:8]+order_df['订单号'].str[-4:])"
   ]
  },
  {
   "cell_type": "code",
   "execution_count": 5,
   "metadata": {
    "collapsed": false
   },
   "outputs": [
    {
     "name": "stderr",
     "output_type": "stream",
     "text": [
      "/Users/xucoolboy/anaconda/lib/python3.6/site-packages/ipykernel/__main__.py:1: FutureWarning: currently extract(expand=None) means expand=False (return Index/Series/DataFrame) but in a future version of pandas this will be changed to expand=True (return DataFrame)\n",
      "  if __name__ == '__main__':\n"
     ]
    }
   ],
   "source": [
    "order_df['宝贝id']=order_df.宝贝链接.str.extract('=(\\d+)')"
   ]
  },
  {
   "cell_type": "code",
   "execution_count": 7,
   "metadata": {
    "collapsed": true
   },
   "outputs": [],
   "source": [
    "#补全类型信息后导入csv文件\n",
    "baobeitype_df=pd.read_csv('baobeiidnew')\n",
    "baobeitype_df.columns=['宝贝id','类型']\n",
    "baobeitype_df.head()\n",
    "baobeitype_df['类型']=baobeitype_df['类型'].astype('str')"
   ]
  },
  {
   "cell_type": "code",
   "execution_count": 8,
   "metadata": {
    "collapsed": false
   },
   "outputs": [],
   "source": [
    "order_df['宝贝id']=order_df['宝贝id'].astype('int')\n",
    "order_df=order_df.merge(baobeitype_df,on='宝贝id')"
   ]
  },
  {
   "cell_type": "code",
   "execution_count": 57,
   "metadata": {
    "collapsed": false
   },
   "outputs": [],
   "source": [
    "#计算每个订单\n",
    "order_df['订单商品详情']=order_df['类型']*order_df['宝贝数量']"
   ]
  },
  {
   "cell_type": "code",
   "execution_count": 59,
   "metadata": {
    "collapsed": true
   },
   "outputs": [],
   "source": [
    "order_df=order_df.groupby('订单标识').agg({'买家旺旺':'max','付款时间':'max','付款年月':'max','子订单金额':'sum',\n",
    "                             '宝贝数量':'sum','订单商品详情':'sum'}).reset_index()"
   ]
  },
  {
   "cell_type": "code",
   "execution_count": 67,
   "metadata": {
    "collapsed": false
   },
   "outputs": [
    {
     "name": "stdout",
     "output_type": "stream",
     "text": [
      "<class 'pandas.core.frame.DataFrame'>\n",
      "RangeIndex: 122725 entries, 0 to 122724\n",
      "Data columns (total 7 columns):\n",
      "订单标识      122725 non-null object\n",
      "买家旺旺      122725 non-null object\n",
      "付款时间      122725 non-null datetime64[ns]\n",
      "付款年月      122725 non-null datetime64[ns]\n",
      "子订单金额     122725 non-null float64\n",
      "宝贝数量      122725 non-null int64\n",
      "订单商品详情    122725 non-null object\n",
      "dtypes: datetime64[ns](2), float64(1), int64(1), object(3)\n",
      "memory usage: 6.6+ MB\n"
     ]
    }
   ],
   "source": [
    "order_df.info()"
   ]
  },
  {
   "cell_type": "markdown",
   "metadata": {},
   "source": [
    "## 人"
   ]
  },
  {
   "cell_type": "markdown",
   "metadata": {},
   "source": [
    "### 购买人数、金额、客单的总体及新老客比较\n",
    "    月销售额=月新客销售额+月老客销售额=月新客人数*新客客单价+月老客数*老客客单价"
   ]
  },
  {
   "cell_type": "code",
   "execution_count": 10,
   "metadata": {
    "collapsed": true
   },
   "outputs": [],
   "source": [
    "newcus_per_M=order_df.groupby('买家旺旺').付款年月.min().value_counts()"
   ]
  },
  {
   "cell_type": "code",
   "execution_count": 16,
   "metadata": {
    "collapsed": false
   },
   "outputs": [],
   "source": [
    "customer_num_per_M=order_df.groupby(['付款年月','买家旺旺']).类型.count().reset_index().groupby('付款年月').买家旺旺.count()"
   ]
  },
  {
   "cell_type": "code",
   "execution_count": 19,
   "metadata": {
    "collapsed": true
   },
   "outputs": [],
   "source": [
    "order_amount_per_M=order_df.groupby('付款年月').子订单金额.sum()"
   ]
  },
  {
   "cell_type": "code",
   "execution_count": 178,
   "metadata": {
    "collapsed": false
   },
   "outputs": [
    {
     "data": {
      "text/plain": [
       "付款年月\n",
       "2017-12-01    1070897.83\n",
       "2018-01-01    1079405.62\n",
       "Name: 子订单金额, dtype: float64"
      ]
     },
     "execution_count": 178,
     "metadata": {},
     "output_type": "execute_result"
    }
   ],
   "source": [
    "#各月付款金额\n",
    "order_amount_per_M.iloc[14:16]"
   ]
  },
  {
   "cell_type": "code",
   "execution_count": 179,
   "metadata": {
    "collapsed": false
   },
   "outputs": [
    {
     "data": {
      "text/plain": [
       "付款年月\n",
       "2017-12-01    12266\n",
       "2018-01-01    14425\n",
       "Name: 买家旺旺, dtype: int64"
      ]
     },
     "execution_count": 179,
     "metadata": {},
     "output_type": "execute_result"
    }
   ],
   "source": [
    "#各月付款人数\n",
    "customer_num_per_M.iloc[14:16]"
   ]
  },
  {
   "cell_type": "code",
   "execution_count": 180,
   "metadata": {
    "collapsed": false
   },
   "outputs": [
    {
     "data": {
      "text/plain": [
       "2017-12-01    0.072314\n",
       "2018-01-01    0.069879\n",
       "dtype: float64"
      ]
     },
     "execution_count": 180,
     "metadata": {},
     "output_type": "execute_result"
    }
   ],
   "source": [
    "#每月老客占比\n",
    "(1-newcus_per_M/customer_num_per_M).iloc[14:16]"
   ]
  },
  {
   "cell_type": "markdown",
   "metadata": {},
   "source": [
    "两个月新老客占比几乎一致"
   ]
  },
  {
   "cell_type": "code",
   "execution_count": null,
   "metadata": {
    "collapsed": true
   },
   "outputs": [],
   "source": [
    "#新老客贡献度比较，新老客客单价比较\n",
    "新老客成交1件和2件以上占比比较，成交单价比较"
   ]
  },
  {
   "cell_type": "code",
   "execution_count": 68,
   "metadata": {
    "collapsed": false
   },
   "outputs": [],
   "source": [
    "#客户每月购买情况表\n",
    "user_month_df=order_df.groupby(['买家旺旺','付款年月']).agg({'付款时间':'count','宝贝数量':\\\n",
    "                                                     'sum','子订单金额':'sum','订单商品详情':'sum'})\n",
    "user_month_df=user_month_df.rename(columns={'付款时间':'购买次数','子订单金额':'购买金额'}).reset_index()"
   ]
  },
  {
   "cell_type": "code",
   "execution_count": 261,
   "metadata": {
    "collapsed": false
   },
   "outputs": [],
   "source": [
    "saleinfo_per_M=user_month_df.groupby('付款年月').agg({'买家旺旺':'count','购买次数':'sum',\n",
    "                                        '宝贝数量':'sum','购买金额':'sum','订单商品详情':'sum'})\n",
    "saleinfo_per_M=saleinfo_per_M.rename(columns={'买家旺旺':'购买人数'})\n",
    "saleinfo_per_M['客单价']=saleinfo_per_M['购买金额']/saleinfo_per_M['购买人数']"
   ]
  },
  {
   "cell_type": "code",
   "execution_count": 69,
   "metadata": {
    "collapsed": false
   },
   "outputs": [],
   "source": [
    "#客户第一次购买月份购买情况\n",
    "user_firstmonth_df=user_month_df.groupby('买家旺旺').apply(lambda x:x[x.付款年月==x.付款年月.min()])"
   ]
  },
  {
   "cell_type": "code",
   "execution_count": 70,
   "metadata": {
    "collapsed": false
   },
   "outputs": [],
   "source": [
    "user_firstmonth_df=user_firstmonth_df.reset_index(drop=True)"
   ]
  },
  {
   "cell_type": "code",
   "execution_count": 260,
   "metadata": {
    "collapsed": false
   },
   "outputs": [],
   "source": [
    "#各月新客购买数据\n",
    "newsaleinfo_per_M=user_firstmonth_df.groupby('付款年月').agg({'买家旺旺':'count','购买次数':'sum',\n",
    "                                        '宝贝数量':'sum','购买金额':'sum','订单商品详情':'sum'})\n",
    "newsaleinfo_per_M=newsaleinfo_per_M.rename(columns={'买家旺旺':'购买人数'})\n",
    "newsaleinfo_per_M['客单价']=newsaleinfo_per_M['购买金额']/newsaleinfo_per_M['购买人数']"
   ]
  },
  {
   "cell_type": "code",
   "execution_count": 264,
   "metadata": {
    "collapsed": false
   },
   "outputs": [],
   "source": [
    "#统计各月老客购买情况\n",
    "oldsaleinfo_per_M=pd.DataFrame()\n",
    "oldsaleinfo_per_M['购买人数']=saleinfo_per_M.购买人数-newsaleinfo_per_M.购买人数\n",
    "oldsaleinfo_per_M['购买次数']=saleinfo_per_M.购买次数-newsaleinfo_per_M.购买次数\n",
    "oldsaleinfo_per_M['宝贝数量']=saleinfo_per_M.宝贝数量-newsaleinfo_per_M.宝贝数量\n",
    "oldsaleinfo_per_M['购买金额']=saleinfo_per_M.购买金额-newsaleinfo_per_M.购买金额\n",
    "oldsaleinfo_per_M['客单价']=oldsaleinfo_per_M['购买金额']/oldsaleinfo_per_M['购买人数']"
   ]
  },
  {
   "cell_type": "code",
   "execution_count": 266,
   "metadata": {
    "collapsed": false
   },
   "outputs": [
    {
     "name": "stdout",
     "output_type": "stream",
     "text": [
      "12月和1月整店购买数据对比\n"
     ]
    },
    {
     "data": {
      "text/html": [
       "<div>\n",
       "<table border=\"1\" class=\"dataframe\">\n",
       "  <thead>\n",
       "    <tr style=\"text-align: right;\">\n",
       "      <th></th>\n",
       "      <th>购买人数</th>\n",
       "      <th>购买次数</th>\n",
       "      <th>宝贝数量</th>\n",
       "      <th>购买金额</th>\n",
       "      <th>客单价</th>\n",
       "    </tr>\n",
       "    <tr>\n",
       "      <th>付款年月</th>\n",
       "      <th></th>\n",
       "      <th></th>\n",
       "      <th></th>\n",
       "      <th></th>\n",
       "      <th></th>\n",
       "    </tr>\n",
       "  </thead>\n",
       "  <tbody>\n",
       "    <tr>\n",
       "      <th>2017-12-01</th>\n",
       "      <td>12266</td>\n",
       "      <td>12710</td>\n",
       "      <td>17923</td>\n",
       "      <td>1070897.83</td>\n",
       "      <td>87.306198</td>\n",
       "    </tr>\n",
       "    <tr>\n",
       "      <th>2018-01-01</th>\n",
       "      <td>14425</td>\n",
       "      <td>14920</td>\n",
       "      <td>18809</td>\n",
       "      <td>1079405.62</td>\n",
       "      <td>74.828812</td>\n",
       "    </tr>\n",
       "  </tbody>\n",
       "</table>\n",
       "</div>"
      ],
      "text/plain": [
       "             购买人数   购买次数   宝贝数量        购买金额        客单价\n",
       "付款年月                                                  \n",
       "2017-12-01  12266  12710  17923  1070897.83  87.306198\n",
       "2018-01-01  14425  14920  18809  1079405.62  74.828812"
      ]
     },
     "execution_count": 266,
     "metadata": {},
     "output_type": "execute_result"
    }
   ],
   "source": [
    "print('12月和1月整店购买数据对比')\n",
    "saleinfo_per_M.iloc[14:16,[0,1,2,3,5]]"
   ]
  },
  {
   "cell_type": "code",
   "execution_count": 267,
   "metadata": {
    "collapsed": false
   },
   "outputs": [
    {
     "name": "stdout",
     "output_type": "stream",
     "text": [
      "12月和1月新客购买数据对比\n"
     ]
    },
    {
     "data": {
      "text/html": [
       "<div>\n",
       "<table border=\"1\" class=\"dataframe\">\n",
       "  <thead>\n",
       "    <tr style=\"text-align: right;\">\n",
       "      <th></th>\n",
       "      <th>购买人数</th>\n",
       "      <th>购买次数</th>\n",
       "      <th>宝贝数量</th>\n",
       "      <th>购买金额</th>\n",
       "      <th>客单价</th>\n",
       "    </tr>\n",
       "    <tr>\n",
       "      <th>付款年月</th>\n",
       "      <th></th>\n",
       "      <th></th>\n",
       "      <th></th>\n",
       "      <th></th>\n",
       "      <th></th>\n",
       "    </tr>\n",
       "  </thead>\n",
       "  <tbody>\n",
       "    <tr>\n",
       "      <th>2017-12-01</th>\n",
       "      <td>11379</td>\n",
       "      <td>11750</td>\n",
       "      <td>16026</td>\n",
       "      <td>958882.56</td>\n",
       "      <td>84.267735</td>\n",
       "    </tr>\n",
       "    <tr>\n",
       "      <th>2018-01-01</th>\n",
       "      <td>13417</td>\n",
       "      <td>13805</td>\n",
       "      <td>16940</td>\n",
       "      <td>964087.53</td>\n",
       "      <td>71.855670</td>\n",
       "    </tr>\n",
       "  </tbody>\n",
       "</table>\n",
       "</div>"
      ],
      "text/plain": [
       "             购买人数   购买次数   宝贝数量       购买金额        客单价\n",
       "付款年月                                                 \n",
       "2017-12-01  11379  11750  16026  958882.56  84.267735\n",
       "2018-01-01  13417  13805  16940  964087.53  71.855670"
      ]
     },
     "execution_count": 267,
     "metadata": {},
     "output_type": "execute_result"
    }
   ],
   "source": [
    "print('12月和1月新客购买数据对比')\n",
    "newsaleinfo_per_M.iloc[14:16,[0,1,2,3,5]]"
   ]
  },
  {
   "cell_type": "code",
   "execution_count": 268,
   "metadata": {
    "collapsed": false
   },
   "outputs": [
    {
     "name": "stdout",
     "output_type": "stream",
     "text": [
      "12月和1月老客购买数据对比\n"
     ]
    },
    {
     "data": {
      "text/html": [
       "<div>\n",
       "<table border=\"1\" class=\"dataframe\">\n",
       "  <thead>\n",
       "    <tr style=\"text-align: right;\">\n",
       "      <th></th>\n",
       "      <th>购买人数</th>\n",
       "      <th>购买次数</th>\n",
       "      <th>宝贝数量</th>\n",
       "      <th>购买金额</th>\n",
       "      <th>客单价</th>\n",
       "    </tr>\n",
       "    <tr>\n",
       "      <th>付款年月</th>\n",
       "      <th></th>\n",
       "      <th></th>\n",
       "      <th></th>\n",
       "      <th></th>\n",
       "      <th></th>\n",
       "    </tr>\n",
       "  </thead>\n",
       "  <tbody>\n",
       "    <tr>\n",
       "      <th>2017-12-01</th>\n",
       "      <td>887</td>\n",
       "      <td>960</td>\n",
       "      <td>1897</td>\n",
       "      <td>112015.27</td>\n",
       "      <td>126.285536</td>\n",
       "    </tr>\n",
       "    <tr>\n",
       "      <th>2018-01-01</th>\n",
       "      <td>1008</td>\n",
       "      <td>1115</td>\n",
       "      <td>1869</td>\n",
       "      <td>115318.09</td>\n",
       "      <td>114.402867</td>\n",
       "    </tr>\n",
       "  </tbody>\n",
       "</table>\n",
       "</div>"
      ],
      "text/plain": [
       "            购买人数  购买次数  宝贝数量       购买金额         客单价\n",
       "付款年月                                               \n",
       "2017-12-01   887   960  1897  112015.27  126.285536\n",
       "2018-01-01  1008  1115  1869  115318.09  114.402867"
      ]
     },
     "execution_count": 268,
     "metadata": {},
     "output_type": "execute_result"
    }
   ],
   "source": [
    "print('12月和1月老客购买数据对比')\n",
    "oldsaleinfo_per_M.iloc[14:16]"
   ]
  },
  {
   "cell_type": "code",
   "execution_count": 183,
   "metadata": {
    "collapsed": false
   },
   "outputs": [
    {
     "name": "stdout",
     "output_type": "stream",
     "text": [
      "          各月新客各项数据贡献度表\n"
     ]
    },
    {
     "data": {
      "text/html": [
       "<div>\n",
       "<table border=\"1\" class=\"dataframe\">\n",
       "  <thead>\n",
       "    <tr style=\"text-align: right;\">\n",
       "      <th></th>\n",
       "      <th>购买人数</th>\n",
       "      <th>购买次数</th>\n",
       "      <th>宝贝数量</th>\n",
       "      <th>购买金额</th>\n",
       "    </tr>\n",
       "    <tr>\n",
       "      <th>付款年月</th>\n",
       "      <th></th>\n",
       "      <th></th>\n",
       "      <th></th>\n",
       "      <th></th>\n",
       "    </tr>\n",
       "  </thead>\n",
       "  <tbody>\n",
       "    <tr>\n",
       "      <th>2017-12-01</th>\n",
       "      <td>0.927686</td>\n",
       "      <td>0.924469</td>\n",
       "      <td>0.894158</td>\n",
       "      <td>0.895401</td>\n",
       "    </tr>\n",
       "    <tr>\n",
       "      <th>2018-01-01</th>\n",
       "      <td>0.930121</td>\n",
       "      <td>0.925268</td>\n",
       "      <td>0.900633</td>\n",
       "      <td>0.893165</td>\n",
       "    </tr>\n",
       "  </tbody>\n",
       "</table>\n",
       "</div>"
      ],
      "text/plain": [
       "                购买人数      购买次数      宝贝数量      购买金额\n",
       "付款年月                                              \n",
       "2017-12-01  0.927686  0.924469  0.894158  0.895401\n",
       "2018-01-01  0.930121  0.925268  0.900633  0.893165"
      ]
     },
     "execution_count": 183,
     "metadata": {},
     "output_type": "execute_result"
    }
   ],
   "source": [
    "#各月新客各项数据贡献度表\n",
    "print(' '*10+'各月新客各项数据贡献度表')\n",
    "(newsaleinfo_per_M.iloc[:,0:4]/saleinfo_per_M.iloc[:,0:4]).iloc[14:16]"
   ]
  },
  {
   "cell_type": "markdown",
   "metadata": {},
   "source": [
    "2017年12月和2018年1月对比发现，这两个月的新老客的人数占比、销售额占比几乎一致。  \n",
    "新老客购买人数都上涨，新客涨幅相对更大一点。新老客客单价都下降，新客降幅相对更大一点。\n",
    "1月的折扣力度大于12月，购买人数增多的同时，客单价下降，所以总体销售额最终差不多。"
   ]
  },
  {
   "cell_type": "markdown",
   "metadata": {},
   "source": [
    "### 客单价下降分析"
   ]
  },
  {
   "cell_type": "markdown",
   "metadata": {},
   "source": [
    "#### 购买1件的订单和购买多件的订单单价比较\n",
    "    当月客单价＝订单单价*人均购买次数=件单价*人均购买件数\n",
    "    订单单价=购买1件订单单价*占比+购买2件及以上订单单价*占比"
   ]
  },
  {
   "cell_type": "code",
   "execution_count": 290,
   "metadata": {
    "collapsed": false
   },
   "outputs": [
    {
     "data": {
      "text/html": [
       "<div>\n",
       "<table border=\"1\" class=\"dataframe\">\n",
       "  <thead>\n",
       "    <tr style=\"text-align: right;\">\n",
       "      <th></th>\n",
       "      <th>订单标识</th>\n",
       "      <th>买家旺旺</th>\n",
       "      <th>付款时间</th>\n",
       "      <th>付款年月</th>\n",
       "      <th>子订单金额</th>\n",
       "      <th>宝贝数量</th>\n",
       "      <th>订单商品详情</th>\n",
       "    </tr>\n",
       "  </thead>\n",
       "  <tbody>\n",
       "    <tr>\n",
       "      <th>0</th>\n",
       "      <td>100000237543</td>\n",
       "      <td>瑞哥嚣张瑞瑞</td>\n",
       "      <td>2017-12-20 16:29:00</td>\n",
       "      <td>2017-12-01</td>\n",
       "      <td>128.00</td>\n",
       "      <td>2</td>\n",
       "      <td>12</td>\n",
       "    </tr>\n",
       "    <tr>\n",
       "      <th>1</th>\n",
       "      <td>100001060610</td>\n",
       "      <td>花间小妖f</td>\n",
       "      <td>2017-12-01 12:02:00</td>\n",
       "      <td>2017-12-01</td>\n",
       "      <td>144.35</td>\n",
       "      <td>1</td>\n",
       "      <td>14</td>\n",
       "    </tr>\n",
       "    <tr>\n",
       "      <th>2</th>\n",
       "      <td>100001388032</td>\n",
       "      <td>伊莜语</td>\n",
       "      <td>2017-12-20 16:25:00</td>\n",
       "      <td>2017-12-01</td>\n",
       "      <td>61.02</td>\n",
       "      <td>1</td>\n",
       "      <td>1</td>\n",
       "    </tr>\n",
       "    <tr>\n",
       "      <th>3</th>\n",
       "      <td>100001413453</td>\n",
       "      <td>多思思1</td>\n",
       "      <td>2017-12-20 16:29:00</td>\n",
       "      <td>2017-12-01</td>\n",
       "      <td>128.00</td>\n",
       "      <td>2</td>\n",
       "      <td>12</td>\n",
       "    </tr>\n",
       "    <tr>\n",
       "      <th>4</th>\n",
       "      <td>100002980843</td>\n",
       "      <td>riverredwave</td>\n",
       "      <td>2017-12-20 16:36:00</td>\n",
       "      <td>2017-12-01</td>\n",
       "      <td>61.02</td>\n",
       "      <td>1</td>\n",
       "      <td>1</td>\n",
       "    </tr>\n",
       "  </tbody>\n",
       "</table>\n",
       "</div>"
      ],
      "text/plain": [
       "           订单标识          买家旺旺                付款时间       付款年月   子订单金额  宝贝数量  \\\n",
       "0  100000237543        瑞哥嚣张瑞瑞 2017-12-20 16:29:00 2017-12-01  128.00     2   \n",
       "1  100001060610         花间小妖f 2017-12-01 12:02:00 2017-12-01  144.35     1   \n",
       "2  100001388032           伊莜语 2017-12-20 16:25:00 2017-12-01   61.02     1   \n",
       "3  100001413453          多思思1 2017-12-20 16:29:00 2017-12-01  128.00     2   \n",
       "4  100002980843  riverredwave 2017-12-20 16:36:00 2017-12-01   61.02     1   \n",
       "\n",
       "  订单商品详情  \n",
       "0     12  \n",
       "1     14  \n",
       "2      1  \n",
       "3     12  \n",
       "4      1  "
      ]
     },
     "execution_count": 290,
     "metadata": {},
     "output_type": "execute_result"
    }
   ],
   "source": [
    "order_df.head()"
   ]
  },
  {
   "cell_type": "code",
   "execution_count": 286,
   "metadata": {
    "collapsed": false
   },
   "outputs": [
    {
     "data": {
      "text/plain": [
       "付款年月\n",
       "2017-12-01    0.032692\n",
       "2018-01-01    0.032305\n",
       "dtype: float64"
      ]
     },
     "execution_count": 286,
     "metadata": {},
     "output_type": "execute_result"
    }
   ],
   "source": [
    "#查看12月和1月的复购率\n",
    "order_df.groupby(['付款年月','买家旺旺']).子订单金额.count().reset_index().groupby('付款年月').\\\n",
    "apply(lambda x:(x.子订单金额[x.子订单金额>1].count())/(x.子订单金额.count())).iloc[14:16]"
   ]
  },
  {
   "cell_type": "code",
   "execution_count": 288,
   "metadata": {
    "collapsed": false
   },
   "outputs": [
    {
     "data": {
      "text/plain": [
       "付款年月\n",
       "2017-12-01    1.036198\n",
       "2018-01-01    1.034315\n",
       "Freq: MS, dtype: float64"
      ]
     },
     "execution_count": 288,
     "metadata": {},
     "output_type": "execute_result"
    }
   ],
   "source": [
    "#查看12月平均购买次数\n",
    "saleinfo_per_M.iloc[14:16].购买次数/saleinfo_per_M.iloc[14:16].购买人数"
   ]
  },
  {
   "cell_type": "markdown",
   "metadata": {},
   "source": [
    "由于12月和1月平均购买次数基本一致，所以可以认为影响客单价的最大因素是订单单价  \n",
    "下面查看购买1件的和购买2件及以上的订单单价的差异"
   ]
  },
  {
   "cell_type": "code",
   "execution_count": 275,
   "metadata": {
    "collapsed": false
   },
   "outputs": [
    {
     "data": {
      "text/plain": [
       "付款年月\n",
       "2017-12-01    66.492969\n",
       "2018-01-01    59.336325\n",
       "Name: 子订单金额, dtype: float64"
      ]
     },
     "execution_count": 275,
     "metadata": {},
     "output_type": "execute_result"
    }
   ],
   "source": [
    "#查看购买件数等于1件的订单金额平均值\n",
    "order_df[order_df.宝贝数量==1].groupby('付款年月').子订单金额.mean().iloc[14:16]"
   ]
  },
  {
   "cell_type": "code",
   "execution_count": 274,
   "metadata": {
    "collapsed": false
   },
   "outputs": [
    {
     "data": {
      "text/plain": [
       "付款年月\n",
       "2017-12-01    130.797595\n",
       "2018-01-01    132.855154\n",
       "Name: 子订单金额, dtype: float64"
      ]
     },
     "execution_count": 274,
     "metadata": {},
     "output_type": "execute_result"
    }
   ],
   "source": [
    "#查看购买件数大于1件的订单金额平均值\n",
    "order_df[order_df.宝贝数量>1].groupby('付款年月').子订单金额.mean().iloc[14:16]"
   ]
  },
  {
   "cell_type": "markdown",
   "metadata": {},
   "source": [
    "可以看出1月购买2件及以上的订单单价并没有下降,反而有上升，主要是购买一件的订单单价下降的比较多。"
   ]
  },
  {
   "cell_type": "code",
   "execution_count": 327,
   "metadata": {
    "collapsed": false
   },
   "outputs": [
    {
     "data": {
      "text/plain": [
       "付款年月\n",
       "2017-12-01    0.718961\n",
       "2018-01-01    0.820375\n",
       "Name: 宝贝数量, dtype: float64"
      ]
     },
     "execution_count": 327,
     "metadata": {},
     "output_type": "execute_result"
    }
   ],
   "source": [
    "#查看订单购买1件的占比\n",
    "(order_df[order_df.宝贝数量==1].groupby('付款年月').宝贝数量.count()\\\n",
    "/(order_df.groupby('付款年月').宝贝数量.count())).iloc[14:16]"
   ]
  },
  {
   "cell_type": "markdown",
   "metadata": {},
   "source": [
    "可以看出1月份购买2件及以上的订单占比下降了10个百分点"
   ]
  },
  {
   "cell_type": "markdown",
   "metadata": {},
   "source": [
    "结论：由于购买1件的订单单价的下降和其占比的提升，最终导致了1月订单单价的下降，加上1月和12月的人均购买次数没有大的变化，所以可以认为  \n",
    "是购买1件订单单价的下降导致了客单价的下降，最终导致了1月在购买人数增多超过15%的基础上，销售额却只有微增。"
   ]
  },
  {
   "cell_type": "code",
   "execution_count": null,
   "metadata": {
    "collapsed": true
   },
   "outputs": [],
   "source": [
    "可以研究哪些渠道进来的客户导致购买1件订单单价下降 ，猜测：直播、淘客 \n",
    "还可以研究哪些产品导致购买1件的订单单价下降，猜测：粉色鼻滴"
   ]
  },
  {
   "cell_type": "code",
   "execution_count": null,
   "metadata": {
    "collapsed": true
   },
   "outputs": [],
   "source": [
    "#### 人均购买件数比较"
   ]
  },
  {
   "cell_type": "markdown",
   "metadata": {},
   "source": [
    "### 货(货销售额、件数环比，和新老客交叉分析)"
   ]
  },
  {
   "cell_type": "code",
   "execution_count": 328,
   "metadata": {
    "collapsed": false
   },
   "outputs": [],
   "source": [
    "#各月老客购买数据:法1.用全月的减去新客，法2.用客户生命周期状态筛选出老客\n"
   ]
  },
  {
   "cell_type": "code",
   "execution_count": 318,
   "metadata": {
    "collapsed": false
   },
   "outputs": [],
   "source": [
    "#计算12月只包含1件商品的所有订单中，各商品的均价及占比\n",
    "product_compare_df_12=pd.concat([order_df[(order_df.宝贝数量==1)&(order_df.付款年月=='2017-12-01')].\\\n",
    "                                 groupby('订单商品详情').子订单金额.mean(),\n",
    "           (order_df[(order_df.宝贝数量==1)&(order_df.付款年月=='2017-12-01')].groupby('订单商品详情').子订单金额.count())/\\\n",
    "           (order_df[(order_df.宝贝数量==1)&(order_df.付款年月=='2017-12-01')].groupby('订单商品详情').子订单金额.count().sum())],axis=1)\n",
    "product_compare_df_12.columns=['均价','数量占比']"
   ]
  },
  {
   "cell_type": "code",
   "execution_count": 321,
   "metadata": {
    "collapsed": true
   },
   "outputs": [],
   "source": [
    "#计算1月只包含1件商品的所有订单中，各商品的均价及占比\n",
    "product_compare_df_01=pd.concat([order_df[(order_df.宝贝数量==1)&(order_df.付款年月=='2018-01-01')].\\\n",
    "                                 groupby('订单商品详情').子订单金额.mean(),\n",
    "           (order_df[(order_df.宝贝数量==1)&(order_df.付款年月=='2018-01-01')].groupby('订单商品详情').子订单金额.count())/\\\n",
    "           (order_df[(order_df.宝贝数量==1)&(order_df.付款年月=='2018-01-01')].groupby('订单商品详情').子订单金额.count().sum())],axis=1)\n",
    "product_compare_df_01.columns=['均价','数量占比']"
   ]
  },
  {
   "cell_type": "code",
   "execution_count": 323,
   "metadata": {
    "collapsed": false
   },
   "outputs": [
    {
     "data": {
      "text/html": [
       "<div>\n",
       "<table border=\"1\" class=\"dataframe\">\n",
       "  <thead>\n",
       "    <tr style=\"text-align: right;\">\n",
       "      <th></th>\n",
       "      <th>均价</th>\n",
       "      <th>数量占比</th>\n",
       "    </tr>\n",
       "    <tr>\n",
       "      <th>订单商品详情</th>\n",
       "      <th></th>\n",
       "      <th></th>\n",
       "    </tr>\n",
       "  </thead>\n",
       "  <tbody>\n",
       "    <tr>\n",
       "      <th>1</th>\n",
       "      <td>64.986808</td>\n",
       "      <td>0.691836</td>\n",
       "    </tr>\n",
       "    <tr>\n",
       "      <th>2</th>\n",
       "      <td>85.398995</td>\n",
       "      <td>0.113263</td>\n",
       "    </tr>\n",
       "    <tr>\n",
       "      <th>6</th>\n",
       "      <td>11.071182</td>\n",
       "      <td>0.048151</td>\n",
       "    </tr>\n",
       "    <tr>\n",
       "      <th>0</th>\n",
       "      <td>1.000000</td>\n",
       "      <td>0.033158</td>\n",
       "    </tr>\n",
       "    <tr>\n",
       "      <th>4</th>\n",
       "      <td>81.567889</td>\n",
       "      <td>0.021777</td>\n",
       "    </tr>\n",
       "  </tbody>\n",
       "</table>\n",
       "</div>"
      ],
      "text/plain": [
       "               均价      数量占比\n",
       "订单商品详情                     \n",
       "1       64.986808  0.691836\n",
       "2       85.398995  0.113263\n",
       "6       11.071182  0.048151\n",
       "0        1.000000  0.033158\n",
       "4       81.567889  0.021777"
      ]
     },
     "execution_count": 323,
     "metadata": {},
     "output_type": "execute_result"
    }
   ],
   "source": [
    "#统计12月单件订单的各商品均价及占比\n",
    "product_compare_df_12.sort_values('数量占比',ascending=False).head(5)"
   ]
  },
  {
   "cell_type": "code",
   "execution_count": 322,
   "metadata": {
    "collapsed": false
   },
   "outputs": [
    {
     "data": {
      "text/html": [
       "<div>\n",
       "<table border=\"1\" class=\"dataframe\">\n",
       "  <thead>\n",
       "    <tr style=\"text-align: right;\">\n",
       "      <th></th>\n",
       "      <th>均价</th>\n",
       "      <th>数量占比</th>\n",
       "    </tr>\n",
       "    <tr>\n",
       "      <th>订单商品详情</th>\n",
       "      <th></th>\n",
       "      <th></th>\n",
       "    </tr>\n",
       "  </thead>\n",
       "  <tbody>\n",
       "    <tr>\n",
       "      <th>1</th>\n",
       "      <td>56.832430</td>\n",
       "      <td>0.761111</td>\n",
       "    </tr>\n",
       "    <tr>\n",
       "      <th>2</th>\n",
       "      <td>82.388987</td>\n",
       "      <td>0.090359</td>\n",
       "    </tr>\n",
       "    <tr>\n",
       "      <th>0</th>\n",
       "      <td>2.213636</td>\n",
       "      <td>0.035948</td>\n",
       "    </tr>\n",
       "    <tr>\n",
       "      <th>3</th>\n",
       "      <td>29.695211</td>\n",
       "      <td>0.023203</td>\n",
       "    </tr>\n",
       "    <tr>\n",
       "      <th>7</th>\n",
       "      <td>1.268540</td>\n",
       "      <td>0.022386</td>\n",
       "    </tr>\n",
       "  </tbody>\n",
       "</table>\n",
       "</div>"
      ],
      "text/plain": [
       "               均价      数量占比\n",
       "订单商品详情                     \n",
       "1       56.832430  0.761111\n",
       "2       82.388987  0.090359\n",
       "0        2.213636  0.035948\n",
       "3       29.695211  0.023203\n",
       "7        1.268540  0.022386"
      ]
     },
     "execution_count": 322,
     "metadata": {},
     "output_type": "execute_result"
    }
   ],
   "source": [
    "#统计1月单件订单的各商品均价及占比\n",
    "product_compare_df_01.sort_values('数量占比',ascending=False).head(5)"
   ]
  },
  {
   "cell_type": "markdown",
   "metadata": {},
   "source": [
    "可以看出在1月份粉色鼻滴的购买单件均价相比12月下降的比较多，占比也提升了，其他商品变化不大，  \n",
    "可以认为是由于粉色鼻滴的购买单件均价的下降是客单价下降的主因。  \n",
    "这可能是对该单品某几次促销力度过大，或者促销频次过多导致的。  "
   ]
  },
  {
   "cell_type": "code",
   "execution_count": 213,
   "metadata": {
    "collapsed": false
   },
   "outputs": [],
   "source": [
    "#计算12、1月各产品销售状况\n",
    "baobei_detail_12=pd.read_csv('baobei-20171200.csv',encoding='gbk')[['宝贝ID','成交宝贝数','销售额']].\\\n",
    "merge(baobeitype_df,left_on='宝贝ID',right_on='宝贝id').drop('宝贝ID',axis=1)\n",
    "baobei_detail_01=pd.read_csv('baobei-20180100.csv',encoding='gbk')[['宝贝ID','成交宝贝数','销售额']].\\\n",
    "merge(baobeitype_df,left_on='宝贝ID',right_on='宝贝id').drop('宝贝ID',axis=1)"
   ]
  },
  {
   "cell_type": "code",
   "execution_count": 242,
   "metadata": {
    "collapsed": false
   },
   "outputs": [],
   "source": [
    "#计算各个货品销售额函数\n",
    "def Create_product_sale(baobei_detail):\n",
    "    baobei_detail['单价']=baobei_detail.销售额/baobei_detail.类型.str.len()\n",
    "    product_dict={'1':0,'2':0,'3':0,'4':0,'5':0,'6':0,'7':0,'8':0,'9':0,'0':0,'e':0}\n",
    "    for item in baobei_detail.iterrows():\n",
    "        for s in item[1].类型:\n",
    "            product_dict[s]=product_dict[s]+item[1].单价\n",
    "    return(product_dict)"
   ]
  },
  {
   "cell_type": "code",
   "execution_count": 252,
   "metadata": {
    "collapsed": false
   },
   "outputs": [],
   "source": [
    "#分别计算12月和1月各个货品的销售额\n",
    "baobei_sale=pd.DataFrame(Create_product_sale(baobei_detail_12),index=['2017-12-31'])\n",
    "baobei_sale=baobei_sale.append(Create_product_sale(baobei_detail_01),ignore_index=True)\n",
    "baobei_sale.index=pd.date_range('2017-12-31',periods=2,freq='M')"
   ]
  },
  {
   "cell_type": "code",
   "execution_count": 152,
   "metadata": {
    "collapsed": false
   },
   "outputs": [],
   "source": [
    "#生成各月新客购买各产品销量数据框\n",
    "def Create_product_info(saleinfo_per_M):\n",
    "    product_amount_per_M=pd.DataFrame(index=pd.date_range('2016-10-1',periods=19,freq='M'))\n",
    "    for item in ['1','2','3','4','5','6','7','8','9','0','e']:\n",
    "        L=[]\n",
    "        for detail in saleinfo_per_M.订单商品详情:\n",
    "            L.append(detail.count(item))\n",
    "        product_amount_per_M.insert(len(product_amount_per_M.columns),item,L)\n",
    "    return(product_amount_per_M)"
   ]
  },
  {
   "cell_type": "code",
   "execution_count": 157,
   "metadata": {
    "collapsed": false
   },
   "outputs": [],
   "source": [
    "#计算每月各产品销量(分总体及新老客)\n",
    "product_per_M=Create_product_info(saleinfo_per_M)\n",
    "product_per_M_newcus=Create_product_info(newsaleinfo_per_M)\n",
    "product_per_M_oldcus=product_per_M-product_per_M_newcus"
   ]
  },
  {
   "cell_type": "code",
   "execution_count": 253,
   "metadata": {
    "collapsed": false
   },
   "outputs": [
    {
     "data": {
      "text/html": [
       "<div>\n",
       "<table border=\"1\" class=\"dataframe\">\n",
       "  <thead>\n",
       "    <tr style=\"text-align: right;\">\n",
       "      <th></th>\n",
       "      <th>0</th>\n",
       "      <th>1</th>\n",
       "      <th>2</th>\n",
       "      <th>3</th>\n",
       "      <th>4</th>\n",
       "      <th>5</th>\n",
       "      <th>6</th>\n",
       "      <th>7</th>\n",
       "      <th>8</th>\n",
       "      <th>9</th>\n",
       "      <th>e</th>\n",
       "    </tr>\n",
       "  </thead>\n",
       "  <tbody>\n",
       "    <tr>\n",
       "      <th>2017-12-31</th>\n",
       "      <td>234.0</td>\n",
       "      <td>654986.6575</td>\n",
       "      <td>238048.610</td>\n",
       "      <td>4737.20</td>\n",
       "      <td>59746.780</td>\n",
       "      <td>62364.9925</td>\n",
       "      <td>10742.25</td>\n",
       "      <td>1000.24</td>\n",
       "      <td>3795.54</td>\n",
       "      <td>1305.91</td>\n",
       "      <td>3506.96</td>\n",
       "    </tr>\n",
       "    <tr>\n",
       "      <th>2018-01-31</th>\n",
       "      <td>974.0</td>\n",
       "      <td>754041.8025</td>\n",
       "      <td>184759.825</td>\n",
       "      <td>16372.72</td>\n",
       "      <td>35320.945</td>\n",
       "      <td>57721.2975</td>\n",
       "      <td>5672.46</td>\n",
       "      <td>1010.50</td>\n",
       "      <td>3058.94</td>\n",
       "      <td>1652.10</td>\n",
       "      <td>3970.53</td>\n",
       "    </tr>\n",
       "  </tbody>\n",
       "</table>\n",
       "</div>"
      ],
      "text/plain": [
       "                0            1           2         3          4           5  \\\n",
       "2017-12-31  234.0  654986.6575  238048.610   4737.20  59746.780  62364.9925   \n",
       "2018-01-31  974.0  754041.8025  184759.825  16372.72  35320.945  57721.2975   \n",
       "\n",
       "                   6        7        8        9        e  \n",
       "2017-12-31  10742.25  1000.24  3795.54  1305.91  3506.96  \n",
       "2018-01-31   5672.46  1010.50  3058.94  1652.10  3970.53  "
      ]
     },
     "execution_count": 253,
     "metadata": {},
     "output_type": "execute_result"
    }
   ],
   "source": [
    "#1212和1月各产品销售额(所有用户)\n",
    "baobei_sale"
   ]
  },
  {
   "cell_type": "code",
   "execution_count": 175,
   "metadata": {
    "collapsed": false
   },
   "outputs": [
    {
     "data": {
      "text/html": [
       "<div>\n",
       "<table border=\"1\" class=\"dataframe\">\n",
       "  <thead>\n",
       "    <tr style=\"text-align: right;\">\n",
       "      <th></th>\n",
       "      <th>1</th>\n",
       "      <th>2</th>\n",
       "      <th>3</th>\n",
       "      <th>4</th>\n",
       "      <th>5</th>\n",
       "      <th>6</th>\n",
       "      <th>7</th>\n",
       "      <th>8</th>\n",
       "      <th>9</th>\n",
       "      <th>0</th>\n",
       "      <th>e</th>\n",
       "    </tr>\n",
       "  </thead>\n",
       "  <tbody>\n",
       "    <tr>\n",
       "      <th>2017-12-31</th>\n",
       "      <td>11309</td>\n",
       "      <td>3780</td>\n",
       "      <td>132</td>\n",
       "      <td>846</td>\n",
       "      <td>870</td>\n",
       "      <td>584</td>\n",
       "      <td>582</td>\n",
       "      <td>46</td>\n",
       "      <td>133</td>\n",
       "      <td>303</td>\n",
       "      <td>119</td>\n",
       "    </tr>\n",
       "    <tr>\n",
       "      <th>2018-01-31</th>\n",
       "      <td>13459</td>\n",
       "      <td>2519</td>\n",
       "      <td>766</td>\n",
       "      <td>527</td>\n",
       "      <td>802</td>\n",
       "      <td>110</td>\n",
       "      <td>951</td>\n",
       "      <td>43</td>\n",
       "      <td>158</td>\n",
       "      <td>440</td>\n",
       "      <td>109</td>\n",
       "    </tr>\n",
       "  </tbody>\n",
       "</table>\n",
       "</div>"
      ],
      "text/plain": [
       "                1     2    3    4    5    6    7   8    9    0    e\n",
       "2017-12-31  11309  3780  132  846  870  584  582  46  133  303  119\n",
       "2018-01-31  13459  2519  766  527  802  110  951  43  158  440  109"
      ]
     },
     "execution_count": 175,
     "metadata": {},
     "output_type": "execute_result"
    }
   ],
   "source": [
    "#12和1月各产品销量(所有用户)\n",
    "product_per_M.iloc[14:16]"
   ]
  },
  {
   "cell_type": "code",
   "execution_count": 325,
   "metadata": {
    "collapsed": false
   },
   "outputs": [
    {
     "data": {
      "text/html": [
       "<div>\n",
       "<table border=\"1\" class=\"dataframe\">\n",
       "  <thead>\n",
       "    <tr style=\"text-align: right;\">\n",
       "      <th></th>\n",
       "      <th>0</th>\n",
       "      <th>1</th>\n",
       "      <th>2</th>\n",
       "      <th>3</th>\n",
       "      <th>4</th>\n",
       "      <th>5</th>\n",
       "      <th>6</th>\n",
       "      <th>7</th>\n",
       "      <th>8</th>\n",
       "      <th>9</th>\n",
       "      <th>e</th>\n",
       "    </tr>\n",
       "  </thead>\n",
       "  <tbody>\n",
       "    <tr>\n",
       "      <th>2017-12-31</th>\n",
       "      <td>0.772277</td>\n",
       "      <td>57.917292</td>\n",
       "      <td>62.975823</td>\n",
       "      <td>35.887879</td>\n",
       "      <td>70.622671</td>\n",
       "      <td>71.683899</td>\n",
       "      <td>18.394264</td>\n",
       "      <td>1.718625</td>\n",
       "      <td>82.511739</td>\n",
       "      <td>9.818872</td>\n",
       "      <td>29.470252</td>\n",
       "    </tr>\n",
       "    <tr>\n",
       "      <th>2018-01-31</th>\n",
       "      <td>2.213636</td>\n",
       "      <td>56.025099</td>\n",
       "      <td>73.346497</td>\n",
       "      <td>21.374308</td>\n",
       "      <td>67.022666</td>\n",
       "      <td>71.971693</td>\n",
       "      <td>51.567818</td>\n",
       "      <td>1.062566</td>\n",
       "      <td>71.138140</td>\n",
       "      <td>10.456329</td>\n",
       "      <td>36.426881</td>\n",
       "    </tr>\n",
       "  </tbody>\n",
       "</table>\n",
       "</div>"
      ],
      "text/plain": [
       "                   0          1          2          3          4          5  \\\n",
       "2017-12-31  0.772277  57.917292  62.975823  35.887879  70.622671  71.683899   \n",
       "2018-01-31  2.213636  56.025099  73.346497  21.374308  67.022666  71.971693   \n",
       "\n",
       "                    6         7          8          9          e  \n",
       "2017-12-31  18.394264  1.718625  82.511739   9.818872  29.470252  \n",
       "2018-01-31  51.567818  1.062566  71.138140  10.456329  36.426881  "
      ]
     },
     "execution_count": 325,
     "metadata": {},
     "output_type": "execute_result"
    }
   ],
   "source": [
    "baobei_sale/(product_per_M.iloc[14:16])"
   ]
  },
  {
   "cell_type": "code",
   "execution_count": 176,
   "metadata": {
    "collapsed": false,
    "scrolled": true
   },
   "outputs": [
    {
     "data": {
      "text/html": [
       "<div>\n",
       "<table border=\"1\" class=\"dataframe\">\n",
       "  <thead>\n",
       "    <tr style=\"text-align: right;\">\n",
       "      <th></th>\n",
       "      <th>1</th>\n",
       "      <th>2</th>\n",
       "      <th>3</th>\n",
       "      <th>4</th>\n",
       "      <th>5</th>\n",
       "      <th>6</th>\n",
       "      <th>7</th>\n",
       "      <th>8</th>\n",
       "      <th>9</th>\n",
       "      <th>0</th>\n",
       "      <th>e</th>\n",
       "    </tr>\n",
       "  </thead>\n",
       "  <tbody>\n",
       "    <tr>\n",
       "      <th>2017-12-31</th>\n",
       "      <td>10480</td>\n",
       "      <td>3114</td>\n",
       "      <td>130</td>\n",
       "      <td>736</td>\n",
       "      <td>647</td>\n",
       "      <td>539</td>\n",
       "      <td>543</td>\n",
       "      <td>29</td>\n",
       "      <td>117</td>\n",
       "      <td>277</td>\n",
       "      <td>109</td>\n",
       "    </tr>\n",
       "    <tr>\n",
       "      <th>2018-01-31</th>\n",
       "      <td>12484</td>\n",
       "      <td>2071</td>\n",
       "      <td>691</td>\n",
       "      <td>425</td>\n",
       "      <td>606</td>\n",
       "      <td>105</td>\n",
       "      <td>866</td>\n",
       "      <td>34</td>\n",
       "      <td>141</td>\n",
       "      <td>381</td>\n",
       "      <td>70</td>\n",
       "    </tr>\n",
       "  </tbody>\n",
       "</table>\n",
       "</div>"
      ],
      "text/plain": [
       "                1     2    3    4    5    6    7   8    9    0    e\n",
       "2017-12-31  10480  3114  130  736  647  539  543  29  117  277  109\n",
       "2018-01-31  12484  2071  691  425  606  105  866  34  141  381   70"
      ]
     },
     "execution_count": 176,
     "metadata": {},
     "output_type": "execute_result"
    }
   ],
   "source": [
    "#12和1月各产品销量(新客)\n",
    "product_per_M_newcus.iloc[14:16]"
   ]
  },
  {
   "cell_type": "code",
   "execution_count": 177,
   "metadata": {
    "collapsed": false
   },
   "outputs": [
    {
     "data": {
      "text/html": [
       "<div>\n",
       "<table border=\"1\" class=\"dataframe\">\n",
       "  <thead>\n",
       "    <tr style=\"text-align: right;\">\n",
       "      <th></th>\n",
       "      <th>1</th>\n",
       "      <th>2</th>\n",
       "      <th>3</th>\n",
       "      <th>4</th>\n",
       "      <th>5</th>\n",
       "      <th>6</th>\n",
       "      <th>7</th>\n",
       "      <th>8</th>\n",
       "      <th>9</th>\n",
       "      <th>0</th>\n",
       "      <th>e</th>\n",
       "    </tr>\n",
       "  </thead>\n",
       "  <tbody>\n",
       "    <tr>\n",
       "      <th>2017-12-31</th>\n",
       "      <td>829</td>\n",
       "      <td>666</td>\n",
       "      <td>2</td>\n",
       "      <td>110</td>\n",
       "      <td>223</td>\n",
       "      <td>45</td>\n",
       "      <td>39</td>\n",
       "      <td>17</td>\n",
       "      <td>16</td>\n",
       "      <td>26</td>\n",
       "      <td>10</td>\n",
       "    </tr>\n",
       "    <tr>\n",
       "      <th>2018-01-31</th>\n",
       "      <td>975</td>\n",
       "      <td>448</td>\n",
       "      <td>75</td>\n",
       "      <td>102</td>\n",
       "      <td>196</td>\n",
       "      <td>5</td>\n",
       "      <td>85</td>\n",
       "      <td>9</td>\n",
       "      <td>17</td>\n",
       "      <td>59</td>\n",
       "      <td>39</td>\n",
       "    </tr>\n",
       "  </tbody>\n",
       "</table>\n",
       "</div>"
      ],
      "text/plain": [
       "              1    2   3    4    5   6   7   8   9   0   e\n",
       "2017-12-31  829  666   2  110  223  45  39  17  16  26  10\n",
       "2018-01-31  975  448  75  102  196   5  85   9  17  59  39"
      ]
     },
     "execution_count": 177,
     "metadata": {},
     "output_type": "execute_result"
    }
   ],
   "source": [
    "#12和1月各产品销量(老客)\n",
    "product_per_M_oldcus.iloc[14:16]"
   ]
  },
  {
   "cell_type": "markdown",
   "metadata": {},
   "source": [
    "从全月的销量来看，1月份粉色鼻滴要比12月多卖2150件，鼻喷要比12月少卖1043件,新客购买鼻喷的数量的降幅要大于老客，虽然鼻喷单价上涨，但是总体销售额还是下降。    \n",
    "但最终在销售额上略微超过12月，主要原因还是粉色鼻滴卖了更多，弥补了鼻喷的下降，某种程度上讲，鼻喷和鼻滴存在一定的替代关系。  "
   ]
  },
  {
   "cell_type": "code",
   "execution_count": 129,
   "metadata": {
    "collapsed": false,
    "scrolled": true
   },
   "outputs": [
    {
     "data": {
      "text/plain": [
       "\"\\n#采用矩阵形式输出结果并转换\\nX=[]\\nfor detail in saleinfo_per_M.订单商品详情:\\n    L=[]\\n    for item in ['1','2','3','4','5','6','7','8','9','0','e']:\\n        L.append(detail.count(item))\\n    X.append(L)\\nproduct_amount_per_M=pd.DataFrame(X,columns=['1','2','3','4','5','6','7','8','9','0','e'],\\n             index=pd.date_range('2016-10-1',periods=19,freq='M'))\\n\""
      ]
     },
     "execution_count": 129,
     "metadata": {},
     "output_type": "execute_result"
    }
   ],
   "source": [
    "'''\n",
    "#采用矩阵形式输出结果并转换\n",
    "X=[]\n",
    "for detail in newsaleinfo_per_M.订单商品详情:\n",
    "    L=[]\n",
    "    for item in ['1','2','3','4','5','6','7','8','9','0','e']:\n",
    "        L.append(detail.count(item))\n",
    "    X.append(L)\n",
    "product_amount_per_M=pd.DataFrame(X,columns=['1','2','3','4','5','6','7','8','9','0','e'],\n",
    "             index=pd.date_range('2016-10-1',periods=19,freq='M'))\n",
    "'''"
   ]
  },
  {
   "cell_type": "markdown",
   "metadata": {},
   "source": [
    "### 场(流量来源、地域)"
   ]
  },
  {
   "cell_type": "code",
   "execution_count": 338,
   "metadata": {
    "collapsed": false
   },
   "outputs": [],
   "source": [
    "order_df=order_df.merge(cus_df[['买家昵称','省份']],left_on='买家旺旺',right_on='买家昵称').drop('买家昵称',axis=1)"
   ]
  },
  {
   "cell_type": "code",
   "execution_count": 415,
   "metadata": {
    "collapsed": false
   },
   "outputs": [],
   "source": [
    "#计算各省份支付金额\n",
    "sale_diyu_df=pd.concat([order_df[order_df.付款年月=='2017-12-01'].groupby('省份').子订单金额.sum(),\n",
    "order_df[order_df.付款年月=='2018-01-01'].groupby('省份').子订单金额.sum()],axis=1)\n",
    "sale_diyu_df.columns=['12月','1月']\n",
    "sale_diyu_df['增幅']=(sale_diyu_df['1月']-sale_diyu_df['12月'])/sale_diyu_df['12月']"
   ]
  },
  {
   "cell_type": "code",
   "execution_count": 416,
   "metadata": {
    "collapsed": false
   },
   "outputs": [
    {
     "data": {
      "text/html": [
       "<div>\n",
       "<table border=\"1\" class=\"dataframe\">\n",
       "  <thead>\n",
       "    <tr style=\"text-align: right;\">\n",
       "      <th></th>\n",
       "      <th>12月</th>\n",
       "      <th>1月</th>\n",
       "      <th>增幅</th>\n",
       "    </tr>\n",
       "    <tr>\n",
       "      <th>省份</th>\n",
       "      <th></th>\n",
       "      <th></th>\n",
       "      <th></th>\n",
       "    </tr>\n",
       "  </thead>\n",
       "  <tbody>\n",
       "    <tr>\n",
       "      <th>广东省</th>\n",
       "      <td>160299.79</td>\n",
       "      <td>149220.13</td>\n",
       "      <td>-0.069118</td>\n",
       "    </tr>\n",
       "    <tr>\n",
       "      <th>浙江省</th>\n",
       "      <td>100863.72</td>\n",
       "      <td>106689.72</td>\n",
       "      <td>0.057761</td>\n",
       "    </tr>\n",
       "    <tr>\n",
       "      <th>上海</th>\n",
       "      <td>85249.20</td>\n",
       "      <td>78590.92</td>\n",
       "      <td>-0.078104</td>\n",
       "    </tr>\n",
       "    <tr>\n",
       "      <th>江苏省</th>\n",
       "      <td>82100.05</td>\n",
       "      <td>81063.33</td>\n",
       "      <td>-0.012628</td>\n",
       "    </tr>\n",
       "    <tr>\n",
       "      <th>北京</th>\n",
       "      <td>63690.83</td>\n",
       "      <td>55449.72</td>\n",
       "      <td>-0.129392</td>\n",
       "    </tr>\n",
       "    <tr>\n",
       "      <th>山东省</th>\n",
       "      <td>56144.94</td>\n",
       "      <td>60743.02</td>\n",
       "      <td>0.081897</td>\n",
       "    </tr>\n",
       "    <tr>\n",
       "      <th>福建省</th>\n",
       "      <td>48913.64</td>\n",
       "      <td>53502.52</td>\n",
       "      <td>0.093816</td>\n",
       "    </tr>\n",
       "    <tr>\n",
       "      <th>湖北省</th>\n",
       "      <td>47913.44</td>\n",
       "      <td>51533.28</td>\n",
       "      <td>0.075550</td>\n",
       "    </tr>\n",
       "    <tr>\n",
       "      <th>四川省</th>\n",
       "      <td>39903.93</td>\n",
       "      <td>41298.22</td>\n",
       "      <td>0.034941</td>\n",
       "    </tr>\n",
       "    <tr>\n",
       "      <th>河南省</th>\n",
       "      <td>34080.43</td>\n",
       "      <td>40224.19</td>\n",
       "      <td>0.180272</td>\n",
       "    </tr>\n",
       "    <tr>\n",
       "      <th>湖南省</th>\n",
       "      <td>30190.86</td>\n",
       "      <td>34070.35</td>\n",
       "      <td>0.128499</td>\n",
       "    </tr>\n",
       "    <tr>\n",
       "      <th>河北省</th>\n",
       "      <td>29008.02</td>\n",
       "      <td>30227.20</td>\n",
       "      <td>0.042029</td>\n",
       "    </tr>\n",
       "    <tr>\n",
       "      <th>安徽省</th>\n",
       "      <td>27392.13</td>\n",
       "      <td>31345.35</td>\n",
       "      <td>0.144320</td>\n",
       "    </tr>\n",
       "    <tr>\n",
       "      <th>天津</th>\n",
       "      <td>27188.41</td>\n",
       "      <td>20179.08</td>\n",
       "      <td>-0.257806</td>\n",
       "    </tr>\n",
       "    <tr>\n",
       "      <th>辽宁省</th>\n",
       "      <td>26134.65</td>\n",
       "      <td>24982.74</td>\n",
       "      <td>-0.044076</td>\n",
       "    </tr>\n",
       "    <tr>\n",
       "      <th>陕西省</th>\n",
       "      <td>25669.16</td>\n",
       "      <td>23745.11</td>\n",
       "      <td>-0.074956</td>\n",
       "    </tr>\n",
       "    <tr>\n",
       "      <th>江西省</th>\n",
       "      <td>22175.95</td>\n",
       "      <td>24038.14</td>\n",
       "      <td>0.083973</td>\n",
       "    </tr>\n",
       "    <tr>\n",
       "      <th>重庆</th>\n",
       "      <td>21167.78</td>\n",
       "      <td>21864.41</td>\n",
       "      <td>0.032910</td>\n",
       "    </tr>\n",
       "    <tr>\n",
       "      <th>广西壮族自治区</th>\n",
       "      <td>20900.75</td>\n",
       "      <td>22170.03</td>\n",
       "      <td>0.060729</td>\n",
       "    </tr>\n",
       "    <tr>\n",
       "      <th>云南省</th>\n",
       "      <td>19946.66</td>\n",
       "      <td>24738.83</td>\n",
       "      <td>0.240249</td>\n",
       "    </tr>\n",
       "    <tr>\n",
       "      <th>山西省</th>\n",
       "      <td>16402.77</td>\n",
       "      <td>15924.18</td>\n",
       "      <td>-0.029177</td>\n",
       "    </tr>\n",
       "    <tr>\n",
       "      <th>贵州省</th>\n",
       "      <td>15474.69</td>\n",
       "      <td>14369.46</td>\n",
       "      <td>-0.071422</td>\n",
       "    </tr>\n",
       "    <tr>\n",
       "      <th>黑龙江省</th>\n",
       "      <td>14577.73</td>\n",
       "      <td>17060.76</td>\n",
       "      <td>0.170330</td>\n",
       "    </tr>\n",
       "    <tr>\n",
       "      <th>内蒙古自治区</th>\n",
       "      <td>11994.05</td>\n",
       "      <td>11268.29</td>\n",
       "      <td>-0.060510</td>\n",
       "    </tr>\n",
       "    <tr>\n",
       "      <th>吉林省</th>\n",
       "      <td>10490.88</td>\n",
       "      <td>13526.02</td>\n",
       "      <td>0.289312</td>\n",
       "    </tr>\n",
       "    <tr>\n",
       "      <th>新疆维吾尔自治区</th>\n",
       "      <td>9941.70</td>\n",
       "      <td>8767.78</td>\n",
       "      <td>-0.118080</td>\n",
       "    </tr>\n",
       "    <tr>\n",
       "      <th>甘肃省</th>\n",
       "      <td>9431.38</td>\n",
       "      <td>7369.99</td>\n",
       "      <td>-0.218567</td>\n",
       "    </tr>\n",
       "    <tr>\n",
       "      <th>海南省</th>\n",
       "      <td>7646.64</td>\n",
       "      <td>9576.48</td>\n",
       "      <td>0.252378</td>\n",
       "    </tr>\n",
       "    <tr>\n",
       "      <th>青海省</th>\n",
       "      <td>3027.73</td>\n",
       "      <td>2363.50</td>\n",
       "      <td>-0.219382</td>\n",
       "    </tr>\n",
       "    <tr>\n",
       "      <th>宁夏回族自治区</th>\n",
       "      <td>2379.98</td>\n",
       "      <td>2894.06</td>\n",
       "      <td>0.216002</td>\n",
       "    </tr>\n",
       "    <tr>\n",
       "      <th>西藏自治区</th>\n",
       "      <td>535.82</td>\n",
       "      <td>143.23</td>\n",
       "      <td>-0.732690</td>\n",
       "    </tr>\n",
       "  </tbody>\n",
       "</table>\n",
       "</div>"
      ],
      "text/plain": [
       "                12月         1月        增幅\n",
       "省份                                      \n",
       "广东省       160299.79  149220.13 -0.069118\n",
       "浙江省       100863.72  106689.72  0.057761\n",
       "上海         85249.20   78590.92 -0.078104\n",
       "江苏省        82100.05   81063.33 -0.012628\n",
       "北京         63690.83   55449.72 -0.129392\n",
       "山东省        56144.94   60743.02  0.081897\n",
       "福建省        48913.64   53502.52  0.093816\n",
       "湖北省        47913.44   51533.28  0.075550\n",
       "四川省        39903.93   41298.22  0.034941\n",
       "河南省        34080.43   40224.19  0.180272\n",
       "湖南省        30190.86   34070.35  0.128499\n",
       "河北省        29008.02   30227.20  0.042029\n",
       "安徽省        27392.13   31345.35  0.144320\n",
       "天津         27188.41   20179.08 -0.257806\n",
       "辽宁省        26134.65   24982.74 -0.044076\n",
       "陕西省        25669.16   23745.11 -0.074956\n",
       "江西省        22175.95   24038.14  0.083973\n",
       "重庆         21167.78   21864.41  0.032910\n",
       "广西壮族自治区    20900.75   22170.03  0.060729\n",
       "云南省        19946.66   24738.83  0.240249\n",
       "山西省        16402.77   15924.18 -0.029177\n",
       "贵州省        15474.69   14369.46 -0.071422\n",
       "黑龙江省       14577.73   17060.76  0.170330\n",
       "内蒙古自治区     11994.05   11268.29 -0.060510\n",
       "吉林省        10490.88   13526.02  0.289312\n",
       "新疆维吾尔自治区    9941.70    8767.78 -0.118080\n",
       "甘肃省         9431.38    7369.99 -0.218567\n",
       "海南省         7646.64    9576.48  0.252378\n",
       "青海省         3027.73    2363.50 -0.219382\n",
       "宁夏回族自治区     2379.98    2894.06  0.216002\n",
       "西藏自治区        535.82     143.23 -0.732690"
      ]
     },
     "execution_count": 416,
     "metadata": {},
     "output_type": "execute_result"
    }
   ],
   "source": [
    "sale_diyu_df.sort_values('12月',ascending=False)"
   ]
  },
  {
   "cell_type": "markdown",
   "metadata": {},
   "source": [
    "1月销售增幅最大几个省份:浙江、山东、福建、湖北、河南、湖南  \n",
    "1月降幅最大几个省份:广东、上海、北京"
   ]
  },
  {
   "cell_type": "code",
   "execution_count": 418,
   "metadata": {
    "collapsed": true
   },
   "outputs": [],
   "source": [
    "#计算各省份的购买订单数\n",
    "ordernum_diyu_df=pd.concat([order_df[order_df.付款年月=='2017-12-01'].groupby('省份').子订单金额.count(),\n",
    "order_df[order_df.付款年月=='2018-01-01'].groupby('省份').子订单金额.count()],axis=1)\n",
    "ordernum_diyu_df.columns=['12月','1月']\n",
    "ordernum_diyu_df['增幅']=(ordernum_diyu_df['1月']-ordernum_diyu_df['12月'])/ordernum_diyu_df['12月']"
   ]
  },
  {
   "cell_type": "code",
   "execution_count": 420,
   "metadata": {
    "collapsed": false
   },
   "outputs": [
    {
     "data": {
      "text/html": [
       "<div>\n",
       "<table border=\"1\" class=\"dataframe\">\n",
       "  <thead>\n",
       "    <tr style=\"text-align: right;\">\n",
       "      <th></th>\n",
       "      <th>12月</th>\n",
       "      <th>1月</th>\n",
       "      <th>增幅</th>\n",
       "    </tr>\n",
       "    <tr>\n",
       "      <th>省份</th>\n",
       "      <th></th>\n",
       "      <th></th>\n",
       "      <th></th>\n",
       "    </tr>\n",
       "  </thead>\n",
       "  <tbody>\n",
       "    <tr>\n",
       "      <th>广东省</th>\n",
       "      <td>1890</td>\n",
       "      <td>1970</td>\n",
       "      <td>0.042328</td>\n",
       "    </tr>\n",
       "    <tr>\n",
       "      <th>浙江省</th>\n",
       "      <td>1182</td>\n",
       "      <td>1513</td>\n",
       "      <td>0.280034</td>\n",
       "    </tr>\n",
       "    <tr>\n",
       "      <th>江苏省</th>\n",
       "      <td>990</td>\n",
       "      <td>1167</td>\n",
       "      <td>0.178788</td>\n",
       "    </tr>\n",
       "    <tr>\n",
       "      <th>上海</th>\n",
       "      <td>921</td>\n",
       "      <td>969</td>\n",
       "      <td>0.052117</td>\n",
       "    </tr>\n",
       "    <tr>\n",
       "      <th>山东省</th>\n",
       "      <td>692</td>\n",
       "      <td>907</td>\n",
       "      <td>0.310694</td>\n",
       "    </tr>\n",
       "    <tr>\n",
       "      <th>北京</th>\n",
       "      <td>662</td>\n",
       "      <td>681</td>\n",
       "      <td>0.028701</td>\n",
       "    </tr>\n",
       "    <tr>\n",
       "      <th>福建省</th>\n",
       "      <td>627</td>\n",
       "      <td>746</td>\n",
       "      <td>0.189793</td>\n",
       "    </tr>\n",
       "    <tr>\n",
       "      <th>湖北省</th>\n",
       "      <td>568</td>\n",
       "      <td>727</td>\n",
       "      <td>0.279930</td>\n",
       "    </tr>\n",
       "    <tr>\n",
       "      <th>四川省</th>\n",
       "      <td>451</td>\n",
       "      <td>551</td>\n",
       "      <td>0.221729</td>\n",
       "    </tr>\n",
       "    <tr>\n",
       "      <th>河南省</th>\n",
       "      <td>436</td>\n",
       "      <td>583</td>\n",
       "      <td>0.337156</td>\n",
       "    </tr>\n",
       "    <tr>\n",
       "      <th>湖南省</th>\n",
       "      <td>382</td>\n",
       "      <td>488</td>\n",
       "      <td>0.277487</td>\n",
       "    </tr>\n",
       "    <tr>\n",
       "      <th>安徽省</th>\n",
       "      <td>371</td>\n",
       "      <td>477</td>\n",
       "      <td>0.285714</td>\n",
       "    </tr>\n",
       "    <tr>\n",
       "      <th>河北省</th>\n",
       "      <td>341</td>\n",
       "      <td>442</td>\n",
       "      <td>0.296188</td>\n",
       "    </tr>\n",
       "    <tr>\n",
       "      <th>辽宁省</th>\n",
       "      <td>333</td>\n",
       "      <td>381</td>\n",
       "      <td>0.144144</td>\n",
       "    </tr>\n",
       "    <tr>\n",
       "      <th>陕西省</th>\n",
       "      <td>309</td>\n",
       "      <td>340</td>\n",
       "      <td>0.100324</td>\n",
       "    </tr>\n",
       "    <tr>\n",
       "      <th>江西省</th>\n",
       "      <td>275</td>\n",
       "      <td>345</td>\n",
       "      <td>0.254545</td>\n",
       "    </tr>\n",
       "    <tr>\n",
       "      <th>天津</th>\n",
       "      <td>273</td>\n",
       "      <td>254</td>\n",
       "      <td>-0.069597</td>\n",
       "    </tr>\n",
       "    <tr>\n",
       "      <th>广西壮族自治区</th>\n",
       "      <td>258</td>\n",
       "      <td>327</td>\n",
       "      <td>0.267442</td>\n",
       "    </tr>\n",
       "    <tr>\n",
       "      <th>云南省</th>\n",
       "      <td>245</td>\n",
       "      <td>299</td>\n",
       "      <td>0.220408</td>\n",
       "    </tr>\n",
       "    <tr>\n",
       "      <th>重庆</th>\n",
       "      <td>238</td>\n",
       "      <td>285</td>\n",
       "      <td>0.197479</td>\n",
       "    </tr>\n",
       "    <tr>\n",
       "      <th>山西省</th>\n",
       "      <td>216</td>\n",
       "      <td>238</td>\n",
       "      <td>0.101852</td>\n",
       "    </tr>\n",
       "    <tr>\n",
       "      <th>黑龙江省</th>\n",
       "      <td>191</td>\n",
       "      <td>257</td>\n",
       "      <td>0.345550</td>\n",
       "    </tr>\n",
       "    <tr>\n",
       "      <th>贵州省</th>\n",
       "      <td>182</td>\n",
       "      <td>207</td>\n",
       "      <td>0.137363</td>\n",
       "    </tr>\n",
       "    <tr>\n",
       "      <th>内蒙古自治区</th>\n",
       "      <td>146</td>\n",
       "      <td>154</td>\n",
       "      <td>0.054795</td>\n",
       "    </tr>\n",
       "    <tr>\n",
       "      <th>吉林省</th>\n",
       "      <td>141</td>\n",
       "      <td>189</td>\n",
       "      <td>0.340426</td>\n",
       "    </tr>\n",
       "    <tr>\n",
       "      <th>甘肃省</th>\n",
       "      <td>113</td>\n",
       "      <td>106</td>\n",
       "      <td>-0.061947</td>\n",
       "    </tr>\n",
       "    <tr>\n",
       "      <th>新疆维吾尔自治区</th>\n",
       "      <td>106</td>\n",
       "      <td>107</td>\n",
       "      <td>0.009434</td>\n",
       "    </tr>\n",
       "    <tr>\n",
       "      <th>海南省</th>\n",
       "      <td>94</td>\n",
       "      <td>130</td>\n",
       "      <td>0.382979</td>\n",
       "    </tr>\n",
       "    <tr>\n",
       "      <th>青海省</th>\n",
       "      <td>36</td>\n",
       "      <td>34</td>\n",
       "      <td>-0.055556</td>\n",
       "    </tr>\n",
       "    <tr>\n",
       "      <th>宁夏回族自治区</th>\n",
       "      <td>34</td>\n",
       "      <td>39</td>\n",
       "      <td>0.147059</td>\n",
       "    </tr>\n",
       "    <tr>\n",
       "      <th>西藏自治区</th>\n",
       "      <td>5</td>\n",
       "      <td>2</td>\n",
       "      <td>-0.600000</td>\n",
       "    </tr>\n",
       "  </tbody>\n",
       "</table>\n",
       "</div>"
      ],
      "text/plain": [
       "           12月    1月        增幅\n",
       "省份                            \n",
       "广东省       1890  1970  0.042328\n",
       "浙江省       1182  1513  0.280034\n",
       "江苏省        990  1167  0.178788\n",
       "上海         921   969  0.052117\n",
       "山东省        692   907  0.310694\n",
       "北京         662   681  0.028701\n",
       "福建省        627   746  0.189793\n",
       "湖北省        568   727  0.279930\n",
       "四川省        451   551  0.221729\n",
       "河南省        436   583  0.337156\n",
       "湖南省        382   488  0.277487\n",
       "安徽省        371   477  0.285714\n",
       "河北省        341   442  0.296188\n",
       "辽宁省        333   381  0.144144\n",
       "陕西省        309   340  0.100324\n",
       "江西省        275   345  0.254545\n",
       "天津         273   254 -0.069597\n",
       "广西壮族自治区    258   327  0.267442\n",
       "云南省        245   299  0.220408\n",
       "重庆         238   285  0.197479\n",
       "山西省        216   238  0.101852\n",
       "黑龙江省       191   257  0.345550\n",
       "贵州省        182   207  0.137363\n",
       "内蒙古自治区     146   154  0.054795\n",
       "吉林省        141   189  0.340426\n",
       "甘肃省        113   106 -0.061947\n",
       "新疆维吾尔自治区   106   107  0.009434\n",
       "海南省         94   130  0.382979\n",
       "青海省         36    34 -0.055556\n",
       "宁夏回族自治区     34    39  0.147059\n",
       "西藏自治区        5     2 -0.600000"
      ]
     },
     "execution_count": 420,
     "metadata": {},
     "output_type": "execute_result"
    }
   ],
   "source": [
    "ordernum_diyu_df.sort_values('12月',ascending=False)"
   ]
  },
  {
   "cell_type": "code",
   "execution_count": 354,
   "metadata": {
    "collapsed": false
   },
   "outputs": [
    {
     "data": {
      "text/html": [
       "<div>\n",
       "<table border=\"1\" class=\"dataframe\">\n",
       "  <thead>\n",
       "    <tr style=\"text-align: right;\">\n",
       "      <th></th>\n",
       "      <th>12月</th>\n",
       "      <th>1月</th>\n",
       "      <th>降幅</th>\n",
       "    </tr>\n",
       "    <tr>\n",
       "      <th>省份</th>\n",
       "      <th></th>\n",
       "      <th></th>\n",
       "      <th></th>\n",
       "    </tr>\n",
       "  </thead>\n",
       "  <tbody>\n",
       "    <tr>\n",
       "      <th>西藏自治区</th>\n",
       "      <td>107.164000</td>\n",
       "      <td>71.615000</td>\n",
       "      <td>0.331725</td>\n",
       "    </tr>\n",
       "    <tr>\n",
       "      <th>天津</th>\n",
       "      <td>99.591245</td>\n",
       "      <td>79.445197</td>\n",
       "      <td>0.202287</td>\n",
       "    </tr>\n",
       "    <tr>\n",
       "      <th>河北省</th>\n",
       "      <td>85.067507</td>\n",
       "      <td>68.387330</td>\n",
       "      <td>0.196082</td>\n",
       "    </tr>\n",
       "    <tr>\n",
       "      <th>贵州省</th>\n",
       "      <td>85.025769</td>\n",
       "      <td>69.417681</td>\n",
       "      <td>0.183569</td>\n",
       "    </tr>\n",
       "    <tr>\n",
       "      <th>山东省</th>\n",
       "      <td>81.134306</td>\n",
       "      <td>66.971356</td>\n",
       "      <td>0.174562</td>\n",
       "    </tr>\n",
       "    <tr>\n",
       "      <th>浙江省</th>\n",
       "      <td>85.333096</td>\n",
       "      <td>70.515347</td>\n",
       "      <td>0.173646</td>\n",
       "    </tr>\n",
       "    <tr>\n",
       "      <th>青海省</th>\n",
       "      <td>84.103611</td>\n",
       "      <td>69.514706</td>\n",
       "      <td>0.173463</td>\n",
       "    </tr>\n",
       "    <tr>\n",
       "      <th>甘肃省</th>\n",
       "      <td>83.463540</td>\n",
       "      <td>69.528208</td>\n",
       "      <td>0.166963</td>\n",
       "    </tr>\n",
       "    <tr>\n",
       "      <th>辽宁省</th>\n",
       "      <td>78.482432</td>\n",
       "      <td>65.571496</td>\n",
       "      <td>0.164507</td>\n",
       "    </tr>\n",
       "    <tr>\n",
       "      <th>广西壮族自治区</th>\n",
       "      <td>81.010659</td>\n",
       "      <td>67.798257</td>\n",
       "      <td>0.163095</td>\n",
       "    </tr>\n",
       "    <tr>\n",
       "      <th>江苏省</th>\n",
       "      <td>82.929343</td>\n",
       "      <td>69.463008</td>\n",
       "      <td>0.162383</td>\n",
       "    </tr>\n",
       "    <tr>\n",
       "      <th>湖北省</th>\n",
       "      <td>84.354648</td>\n",
       "      <td>70.884842</td>\n",
       "      <td>0.159681</td>\n",
       "    </tr>\n",
       "    <tr>\n",
       "      <th>陕西省</th>\n",
       "      <td>83.071715</td>\n",
       "      <td>69.838559</td>\n",
       "      <td>0.159298</td>\n",
       "    </tr>\n",
       "    <tr>\n",
       "      <th>北京</th>\n",
       "      <td>96.209713</td>\n",
       "      <td>81.423965</td>\n",
       "      <td>0.153682</td>\n",
       "    </tr>\n",
       "    <tr>\n",
       "      <th>四川省</th>\n",
       "      <td>88.478780</td>\n",
       "      <td>74.951397</td>\n",
       "      <td>0.152888</td>\n",
       "    </tr>\n",
       "    <tr>\n",
       "      <th>重庆</th>\n",
       "      <td>88.940252</td>\n",
       "      <td>76.717228</td>\n",
       "      <td>0.137430</td>\n",
       "    </tr>\n",
       "    <tr>\n",
       "      <th>江西省</th>\n",
       "      <td>80.639818</td>\n",
       "      <td>69.675768</td>\n",
       "      <td>0.135963</td>\n",
       "    </tr>\n",
       "    <tr>\n",
       "      <th>黑龙江省</th>\n",
       "      <td>76.323194</td>\n",
       "      <td>66.384280</td>\n",
       "      <td>0.130221</td>\n",
       "    </tr>\n",
       "    <tr>\n",
       "      <th>新疆维吾尔自治区</th>\n",
       "      <td>93.789623</td>\n",
       "      <td>81.941869</td>\n",
       "      <td>0.126323</td>\n",
       "    </tr>\n",
       "    <tr>\n",
       "      <th>上海</th>\n",
       "      <td>92.561564</td>\n",
       "      <td>81.105181</td>\n",
       "      <td>0.123770</td>\n",
       "    </tr>\n",
       "    <tr>\n",
       "      <th>山西省</th>\n",
       "      <td>75.938750</td>\n",
       "      <td>66.908319</td>\n",
       "      <td>0.118917</td>\n",
       "    </tr>\n",
       "    <tr>\n",
       "      <th>河南省</th>\n",
       "      <td>78.166124</td>\n",
       "      <td>68.995180</td>\n",
       "      <td>0.117326</td>\n",
       "    </tr>\n",
       "    <tr>\n",
       "      <th>湖南省</th>\n",
       "      <td>79.033665</td>\n",
       "      <td>69.816291</td>\n",
       "      <td>0.116626</td>\n",
       "    </tr>\n",
       "    <tr>\n",
       "      <th>安徽省</th>\n",
       "      <td>73.833235</td>\n",
       "      <td>65.713522</td>\n",
       "      <td>0.109974</td>\n",
       "    </tr>\n",
       "    <tr>\n",
       "      <th>内蒙古自治区</th>\n",
       "      <td>82.151027</td>\n",
       "      <td>73.170714</td>\n",
       "      <td>0.109315</td>\n",
       "    </tr>\n",
       "    <tr>\n",
       "      <th>广东省</th>\n",
       "      <td>84.814704</td>\n",
       "      <td>75.746259</td>\n",
       "      <td>0.106921</td>\n",
       "    </tr>\n",
       "    <tr>\n",
       "      <th>海南省</th>\n",
       "      <td>81.347234</td>\n",
       "      <td>73.665231</td>\n",
       "      <td>0.094435</td>\n",
       "    </tr>\n",
       "    <tr>\n",
       "      <th>福建省</th>\n",
       "      <td>78.012185</td>\n",
       "      <td>71.719196</td>\n",
       "      <td>0.080667</td>\n",
       "    </tr>\n",
       "    <tr>\n",
       "      <th>吉林省</th>\n",
       "      <td>74.403404</td>\n",
       "      <td>71.566243</td>\n",
       "      <td>0.038132</td>\n",
       "    </tr>\n",
       "    <tr>\n",
       "      <th>云南省</th>\n",
       "      <td>81.414939</td>\n",
       "      <td>82.738562</td>\n",
       "      <td>-0.016258</td>\n",
       "    </tr>\n",
       "    <tr>\n",
       "      <th>宁夏回族自治区</th>\n",
       "      <td>69.999412</td>\n",
       "      <td>74.206667</td>\n",
       "      <td>-0.060104</td>\n",
       "    </tr>\n",
       "  </tbody>\n",
       "</table>\n",
       "</div>"
      ],
      "text/plain": [
       "                 12月         1月        降幅\n",
       "省份                                       \n",
       "西藏自治区     107.164000  71.615000  0.331725\n",
       "天津         99.591245  79.445197  0.202287\n",
       "河北省        85.067507  68.387330  0.196082\n",
       "贵州省        85.025769  69.417681  0.183569\n",
       "山东省        81.134306  66.971356  0.174562\n",
       "浙江省        85.333096  70.515347  0.173646\n",
       "青海省        84.103611  69.514706  0.173463\n",
       "甘肃省        83.463540  69.528208  0.166963\n",
       "辽宁省        78.482432  65.571496  0.164507\n",
       "广西壮族自治区    81.010659  67.798257  0.163095\n",
       "江苏省        82.929343  69.463008  0.162383\n",
       "湖北省        84.354648  70.884842  0.159681\n",
       "陕西省        83.071715  69.838559  0.159298\n",
       "北京         96.209713  81.423965  0.153682\n",
       "四川省        88.478780  74.951397  0.152888\n",
       "重庆         88.940252  76.717228  0.137430\n",
       "江西省        80.639818  69.675768  0.135963\n",
       "黑龙江省       76.323194  66.384280  0.130221\n",
       "新疆维吾尔自治区   93.789623  81.941869  0.126323\n",
       "上海         92.561564  81.105181  0.123770\n",
       "山西省        75.938750  66.908319  0.118917\n",
       "河南省        78.166124  68.995180  0.117326\n",
       "湖南省        79.033665  69.816291  0.116626\n",
       "安徽省        73.833235  65.713522  0.109974\n",
       "内蒙古自治区     82.151027  73.170714  0.109315\n",
       "广东省        84.814704  75.746259  0.106921\n",
       "海南省        81.347234  73.665231  0.094435\n",
       "福建省        78.012185  71.719196  0.080667\n",
       "吉林省        74.403404  71.566243  0.038132\n",
       "云南省        81.414939  82.738562 -0.016258\n",
       "宁夏回族自治区    69.999412  74.206667 -0.060104"
      ]
     },
     "execution_count": 354,
     "metadata": {},
     "output_type": "execute_result"
    }
   ],
   "source": [
    "#计算各省份的订单均价\n",
    "bidanjia_diyu_df=sale_diyu_df/ordernum_diyu_df\n",
    "bidanjia_diyu_df['降幅']=(bidanjia_diyu_df['12月']-bidanjia_diyu_df['1月'])/bidanjia_diyu_df['12月']\n",
    "bidanjia_diyu_df.sort_values('降幅',ascending=False)"
   ]
  },
  {
   "cell_type": "markdown",
   "metadata": {},
   "source": [
    "销售额比较高的省份如山东、浙江的客单价降幅都比较高，对下拉整体客单价作用最大  \n",
    "降幅大的省份受促销影响很大,往往是大淘客集中推广的一些地方"
   ]
  },
  {
   "cell_type": "code",
   "execution_count": 356,
   "metadata": {
    "collapsed": true
   },
   "outputs": [],
   "source": [
    "pivoted_user_buy=order_df.pivot_table(index='买家旺旺',\n",
    "                              columns='付款年月',\n",
    "                              values='订单标识',\n",
    "                              aggfunc='count')\n",
    "pivoted_user_buy=pivoted_user_buy.applymap(lambda x:1 if x>1 else 0 if x==1 else np.NaN)"
   ]
  },
  {
   "cell_type": "code",
   "execution_count": 358,
   "metadata": {
    "collapsed": false
   },
   "outputs": [],
   "source": [
    "#计算是否有回购函数\n",
    "def huigou_after(x):\n",
    "    L=[]\n",
    "    for i in range((len(x)-1)):\n",
    "        if x[i]>=0:\n",
    "            for j in range(i+1,len(x)):\n",
    "                if x[j]>=0:\n",
    "                    L.append(1)\n",
    "                    break\n",
    "                else:\n",
    "                    if j==len(x)-1:\n",
    "                        L.append(0)\n",
    "        else:\n",
    "            L.append(np.NaN)\n",
    "    if x[len(x)-1]>=0:\n",
    "        L.append(0)\n",
    "    else:\n",
    "        L.append(np.NaN)\n",
    "    return(L)"
   ]
  },
  {
   "cell_type": "code",
   "execution_count": 359,
   "metadata": {
    "collapsed": true
   },
   "outputs": [],
   "source": [
    "#得出各月各个买家是否回购\n",
    "huigou_after_df=pivoted_user_buy.apply(lambda x:huigou_after(x),axis=1)"
   ]
  },
  {
   "cell_type": "code",
   "execution_count": 368,
   "metadata": {
    "collapsed": false
   },
   "outputs": [],
   "source": [
    "huigou_after_df=huigou_after_df.merge(cus_df[['买家昵称','省份']],left_index=True,right_on='买家昵称')"
   ]
  },
  {
   "cell_type": "code",
   "execution_count": 377,
   "metadata": {
    "collapsed": false
   },
   "outputs": [],
   "source": [
    "#各月各省留存人数\n",
    "huigou_diyu_df=huigou_after_df.groupby('省份').sum()"
   ]
  },
  {
   "cell_type": "code",
   "execution_count": 374,
   "metadata": {
    "collapsed": false
   },
   "outputs": [],
   "source": [
    "#各月各省购买人数\n",
    "goumai_df=pivoted_user_buy.merge(cus_df[['买家昵称','省份']],left_index=True,right_on='买家昵称')\\\n",
    ".groupby('省份').count()"
   ]
  },
  {
   "cell_type": "code",
   "execution_count": 427,
   "metadata": {
    "collapsed": false
   },
   "outputs": [],
   "source": [
    "#各月各省留存率指标\n",
    "huigoulv_diyu_df=((huigou_diyu_df.iloc[:,0:19])/(goumai_df.iloc[:,0:19])).iloc[:,14:16]\n",
    "huigoulv_diyu_df.columns=['12月','1月']\n",
    "huigoulv_diyu_df['降幅']=(huigoulv_diyu_df['12月']-huigoulv_diyu_df['1月'])/huigoulv_diyu_df['12月']"
   ]
  },
  {
   "cell_type": "code",
   "execution_count": 432,
   "metadata": {
    "collapsed": false
   },
   "outputs": [
    {
     "data": {
      "text/html": [
       "<div>\n",
       "<table border=\"1\" class=\"dataframe\">\n",
       "  <thead>\n",
       "    <tr style=\"text-align: right;\">\n",
       "      <th></th>\n",
       "      <th>12月</th>\n",
       "      <th>1月</th>\n",
       "      <th>降幅</th>\n",
       "    </tr>\n",
       "    <tr>\n",
       "      <th>省份</th>\n",
       "      <th></th>\n",
       "      <th></th>\n",
       "      <th></th>\n",
       "    </tr>\n",
       "  </thead>\n",
       "  <tbody>\n",
       "    <tr>\n",
       "      <th>内蒙古自治区</th>\n",
       "      <td>0.041096</td>\n",
       "      <td>0.013245</td>\n",
       "      <td>0.677704</td>\n",
       "    </tr>\n",
       "    <tr>\n",
       "      <th>湖北省</th>\n",
       "      <td>0.051002</td>\n",
       "      <td>0.021552</td>\n",
       "      <td>0.577432</td>\n",
       "    </tr>\n",
       "    <tr>\n",
       "      <th>河北省</th>\n",
       "      <td>0.057402</td>\n",
       "      <td>0.025229</td>\n",
       "      <td>0.560478</td>\n",
       "    </tr>\n",
       "    <tr>\n",
       "      <th>海南省</th>\n",
       "      <td>0.065934</td>\n",
       "      <td>0.031496</td>\n",
       "      <td>0.522310</td>\n",
       "    </tr>\n",
       "    <tr>\n",
       "      <th>山西省</th>\n",
       "      <td>0.074766</td>\n",
       "      <td>0.038298</td>\n",
       "      <td>0.487766</td>\n",
       "    </tr>\n",
       "    <tr>\n",
       "      <th>陕西省</th>\n",
       "      <td>0.070000</td>\n",
       "      <td>0.036145</td>\n",
       "      <td>0.483649</td>\n",
       "    </tr>\n",
       "    <tr>\n",
       "      <th>青海省</th>\n",
       "      <td>0.057143</td>\n",
       "      <td>0.030303</td>\n",
       "      <td>0.469697</td>\n",
       "    </tr>\n",
       "    <tr>\n",
       "      <th>四川省</th>\n",
       "      <td>0.082192</td>\n",
       "      <td>0.046729</td>\n",
       "      <td>0.431464</td>\n",
       "    </tr>\n",
       "    <tr>\n",
       "      <th>山东省</th>\n",
       "      <td>0.049107</td>\n",
       "      <td>0.030787</td>\n",
       "      <td>0.373069</td>\n",
       "    </tr>\n",
       "    <tr>\n",
       "      <th>新疆维吾尔自治区</th>\n",
       "      <td>0.030000</td>\n",
       "      <td>0.019048</td>\n",
       "      <td>0.365079</td>\n",
       "    </tr>\n",
       "    <tr>\n",
       "      <th>湖南省</th>\n",
       "      <td>0.078591</td>\n",
       "      <td>0.050847</td>\n",
       "      <td>0.353010</td>\n",
       "    </tr>\n",
       "    <tr>\n",
       "      <th>浙江省</th>\n",
       "      <td>0.060954</td>\n",
       "      <td>0.039945</td>\n",
       "      <td>0.344672</td>\n",
       "    </tr>\n",
       "    <tr>\n",
       "      <th>上海</th>\n",
       "      <td>0.066059</td>\n",
       "      <td>0.046537</td>\n",
       "      <td>0.295529</td>\n",
       "    </tr>\n",
       "    <tr>\n",
       "      <th>辽宁省</th>\n",
       "      <td>0.033742</td>\n",
       "      <td>0.024129</td>\n",
       "      <td>0.284913</td>\n",
       "    </tr>\n",
       "    <tr>\n",
       "      <th>黑龙江省</th>\n",
       "      <td>0.027027</td>\n",
       "      <td>0.019920</td>\n",
       "      <td>0.262948</td>\n",
       "    </tr>\n",
       "    <tr>\n",
       "      <th>安徽省</th>\n",
       "      <td>0.061111</td>\n",
       "      <td>0.045064</td>\n",
       "      <td>0.262583</td>\n",
       "    </tr>\n",
       "    <tr>\n",
       "      <th>天津</th>\n",
       "      <td>0.046693</td>\n",
       "      <td>0.036585</td>\n",
       "      <td>0.216463</td>\n",
       "    </tr>\n",
       "    <tr>\n",
       "      <th>重庆</th>\n",
       "      <td>0.095238</td>\n",
       "      <td>0.075000</td>\n",
       "      <td>0.212500</td>\n",
       "    </tr>\n",
       "    <tr>\n",
       "      <th>广西壮族自治区</th>\n",
       "      <td>0.039683</td>\n",
       "      <td>0.031646</td>\n",
       "      <td>0.202532</td>\n",
       "    </tr>\n",
       "    <tr>\n",
       "      <th>北京</th>\n",
       "      <td>0.049844</td>\n",
       "      <td>0.040724</td>\n",
       "      <td>0.182975</td>\n",
       "    </tr>\n",
       "    <tr>\n",
       "      <th>广东省</th>\n",
       "      <td>0.050165</td>\n",
       "      <td>0.041248</td>\n",
       "      <td>0.177759</td>\n",
       "    </tr>\n",
       "    <tr>\n",
       "      <th>江苏省</th>\n",
       "      <td>0.041139</td>\n",
       "      <td>0.033959</td>\n",
       "      <td>0.174538</td>\n",
       "    </tr>\n",
       "    <tr>\n",
       "      <th>福建省</th>\n",
       "      <td>0.053691</td>\n",
       "      <td>0.045706</td>\n",
       "      <td>0.148719</td>\n",
       "    </tr>\n",
       "    <tr>\n",
       "      <th>吉林省</th>\n",
       "      <td>0.043478</td>\n",
       "      <td>0.038043</td>\n",
       "      <td>0.125000</td>\n",
       "    </tr>\n",
       "    <tr>\n",
       "      <th>河南省</th>\n",
       "      <td>0.039720</td>\n",
       "      <td>0.035088</td>\n",
       "      <td>0.116615</td>\n",
       "    </tr>\n",
       "    <tr>\n",
       "      <th>云南省</th>\n",
       "      <td>0.046610</td>\n",
       "      <td>0.044983</td>\n",
       "      <td>0.034917</td>\n",
       "    </tr>\n",
       "    <tr>\n",
       "      <th>江西省</th>\n",
       "      <td>0.041045</td>\n",
       "      <td>0.041791</td>\n",
       "      <td>-0.018182</td>\n",
       "    </tr>\n",
       "    <tr>\n",
       "      <th>贵州省</th>\n",
       "      <td>0.038889</td>\n",
       "      <td>0.045685</td>\n",
       "      <td>-0.174764</td>\n",
       "    </tr>\n",
       "    <tr>\n",
       "      <th>甘肃省</th>\n",
       "      <td>0.018182</td>\n",
       "      <td>0.049020</td>\n",
       "      <td>-1.696078</td>\n",
       "    </tr>\n",
       "    <tr>\n",
       "      <th>宁夏回族自治区</th>\n",
       "      <td>0.000000</td>\n",
       "      <td>0.051282</td>\n",
       "      <td>-inf</td>\n",
       "    </tr>\n",
       "    <tr>\n",
       "      <th>西藏自治区</th>\n",
       "      <td>0.000000</td>\n",
       "      <td>0.500000</td>\n",
       "      <td>-inf</td>\n",
       "    </tr>\n",
       "  </tbody>\n",
       "</table>\n",
       "</div>"
      ],
      "text/plain": [
       "               12月        1月        降幅\n",
       "省份                                    \n",
       "内蒙古自治区    0.041096  0.013245  0.677704\n",
       "湖北省       0.051002  0.021552  0.577432\n",
       "河北省       0.057402  0.025229  0.560478\n",
       "海南省       0.065934  0.031496  0.522310\n",
       "山西省       0.074766  0.038298  0.487766\n",
       "陕西省       0.070000  0.036145  0.483649\n",
       "青海省       0.057143  0.030303  0.469697\n",
       "四川省       0.082192  0.046729  0.431464\n",
       "山东省       0.049107  0.030787  0.373069\n",
       "新疆维吾尔自治区  0.030000  0.019048  0.365079\n",
       "湖南省       0.078591  0.050847  0.353010\n",
       "浙江省       0.060954  0.039945  0.344672\n",
       "上海        0.066059  0.046537  0.295529\n",
       "辽宁省       0.033742  0.024129  0.284913\n",
       "黑龙江省      0.027027  0.019920  0.262948\n",
       "安徽省       0.061111  0.045064  0.262583\n",
       "天津        0.046693  0.036585  0.216463\n",
       "重庆        0.095238  0.075000  0.212500\n",
       "广西壮族自治区   0.039683  0.031646  0.202532\n",
       "北京        0.049844  0.040724  0.182975\n",
       "广东省       0.050165  0.041248  0.177759\n",
       "江苏省       0.041139  0.033959  0.174538\n",
       "福建省       0.053691  0.045706  0.148719\n",
       "吉林省       0.043478  0.038043  0.125000\n",
       "河南省       0.039720  0.035088  0.116615\n",
       "云南省       0.046610  0.044983  0.034917\n",
       "江西省       0.041045  0.041791 -0.018182\n",
       "贵州省       0.038889  0.045685 -0.174764\n",
       "甘肃省       0.018182  0.049020 -1.696078\n",
       "宁夏回族自治区   0.000000  0.051282      -inf\n",
       "西藏自治区     0.000000  0.500000      -inf"
      ]
     },
     "execution_count": 432,
     "metadata": {},
     "output_type": "execute_result"
    }
   ],
   "source": [
    "huigoulv_diyu_df.sort_values('降幅',ascending=False)"
   ]
  },
  {
   "cell_type": "markdown",
   "metadata": {},
   "source": [
    "降幅排名前几的省份1月份客单价并无上涨，也就是说这个留存率的下降并不是购买周期较长导致的，可能是天气相对其他省份较好，购买刚需少，    \n",
    "但是也可以通过线下门店或者线上本地公众号加强下那些地域的预防性市场教育。"
   ]
  },
  {
   "cell_type": "code",
   "execution_count": 392,
   "metadata": {
    "collapsed": false
   },
   "outputs": [],
   "source": [
    "#统计客户购买月份数\n",
    "newhuigou_df=order_df.groupby(['买家旺旺','付款年月']).宝贝数量.count().reset_index().\\\n",
    "groupby('买家旺旺').agg({'付款年月':'min','宝贝数量':'count'})\n",
    "newhuigou_df.columns=['最早购买年月','总购买月份数']\n",
    "newhuigou_df=newhuigou_df.merge(cus_df[['买家昵称','省份']],left_index=True,right_on='买家昵称')\n",
    "newhuigou_df['是否回购']=newhuigou_df.总购买月份数.apply(lambda x:1 if x>1 else 0)"
   ]
  },
  {
   "cell_type": "code",
   "execution_count": 395,
   "metadata": {
    "collapsed": false
   },
   "outputs": [],
   "source": [
    "#统计各月分地域新客数\n",
    "newcus_diyu_per_M=newhuigou_df.pivot_table(index='省份',columns='最早购买年月',values='是否回购',aggfunc='count')"
   ]
  },
  {
   "cell_type": "code",
   "execution_count": 396,
   "metadata": {
    "collapsed": false
   },
   "outputs": [],
   "source": [
    "#统计各月分地域回购新客数\n",
    "newcushuigou_diyu_per_M=newhuigou_df.pivot_table(index='省份',columns='最早购买年月',values='是否回购',aggfunc='sum')"
   ]
  },
  {
   "cell_type": "code",
   "execution_count": 414,
   "metadata": {
    "collapsed": false
   },
   "outputs": [
    {
     "data": {
      "text/html": [
       "<div>\n",
       "<table border=\"1\" class=\"dataframe\">\n",
       "  <thead>\n",
       "    <tr style=\"text-align: right;\">\n",
       "      <th>最早购买年月</th>\n",
       "      <th>2017-12-01 00:00:00</th>\n",
       "      <th>2018-01-01 00:00:00</th>\n",
       "    </tr>\n",
       "    <tr>\n",
       "      <th>省份</th>\n",
       "      <th></th>\n",
       "      <th></th>\n",
       "    </tr>\n",
       "  </thead>\n",
       "  <tbody>\n",
       "    <tr>\n",
       "      <th>上海</th>\n",
       "      <td>0.050441</td>\n",
       "      <td>0.032569</td>\n",
       "    </tr>\n",
       "    <tr>\n",
       "      <th>云南省</th>\n",
       "      <td>0.040359</td>\n",
       "      <td>0.033210</td>\n",
       "    </tr>\n",
       "    <tr>\n",
       "      <th>内蒙古自治区</th>\n",
       "      <td>0.022727</td>\n",
       "      <td>0.007246</td>\n",
       "    </tr>\n",
       "    <tr>\n",
       "      <th>北京</th>\n",
       "      <td>0.041026</td>\n",
       "      <td>0.030695</td>\n",
       "    </tr>\n",
       "    <tr>\n",
       "      <th>吉林省</th>\n",
       "      <td>0.037037</td>\n",
       "      <td>0.029240</td>\n",
       "    </tr>\n",
       "    <tr>\n",
       "      <th>四川省</th>\n",
       "      <td>0.068127</td>\n",
       "      <td>0.036072</td>\n",
       "    </tr>\n",
       "    <tr>\n",
       "      <th>天津</th>\n",
       "      <td>0.035398</td>\n",
       "      <td>0.031111</td>\n",
       "    </tr>\n",
       "    <tr>\n",
       "      <th>宁夏回族自治区</th>\n",
       "      <td>0.000000</td>\n",
       "      <td>0.029412</td>\n",
       "    </tr>\n",
       "    <tr>\n",
       "      <th>安徽省</th>\n",
       "      <td>0.048193</td>\n",
       "      <td>0.029545</td>\n",
       "    </tr>\n",
       "    <tr>\n",
       "      <th>山东省</th>\n",
       "      <td>0.039936</td>\n",
       "      <td>0.021978</td>\n",
       "    </tr>\n",
       "    <tr>\n",
       "      <th>山西省</th>\n",
       "      <td>0.069652</td>\n",
       "      <td>0.027273</td>\n",
       "    </tr>\n",
       "    <tr>\n",
       "      <th>广东省</th>\n",
       "      <td>0.043632</td>\n",
       "      <td>0.026950</td>\n",
       "    </tr>\n",
       "    <tr>\n",
       "      <th>广西壮族自治区</th>\n",
       "      <td>0.037815</td>\n",
       "      <td>0.019802</td>\n",
       "    </tr>\n",
       "    <tr>\n",
       "      <th>新疆维吾尔自治区</th>\n",
       "      <td>0.011364</td>\n",
       "      <td>0.019608</td>\n",
       "    </tr>\n",
       "    <tr>\n",
       "      <th>江苏省</th>\n",
       "      <td>0.032694</td>\n",
       "      <td>0.029440</td>\n",
       "    </tr>\n",
       "    <tr>\n",
       "      <th>江西省</th>\n",
       "      <td>0.035714</td>\n",
       "      <td>0.034591</td>\n",
       "    </tr>\n",
       "    <tr>\n",
       "      <th>河北省</th>\n",
       "      <td>0.057325</td>\n",
       "      <td>0.020000</td>\n",
       "    </tr>\n",
       "    <tr>\n",
       "      <th>河南省</th>\n",
       "      <td>0.030075</td>\n",
       "      <td>0.029851</td>\n",
       "    </tr>\n",
       "    <tr>\n",
       "      <th>浙江省</th>\n",
       "      <td>0.046358</td>\n",
       "      <td>0.029806</td>\n",
       "    </tr>\n",
       "    <tr>\n",
       "      <th>海南省</th>\n",
       "      <td>0.060976</td>\n",
       "      <td>0.033613</td>\n",
       "    </tr>\n",
       "    <tr>\n",
       "      <th>湖北省</th>\n",
       "      <td>0.037402</td>\n",
       "      <td>0.017002</td>\n",
       "    </tr>\n",
       "    <tr>\n",
       "      <th>湖南省</th>\n",
       "      <td>0.061947</td>\n",
       "      <td>0.029478</td>\n",
       "    </tr>\n",
       "    <tr>\n",
       "      <th>甘肃省</th>\n",
       "      <td>0.000000</td>\n",
       "      <td>0.030612</td>\n",
       "    </tr>\n",
       "    <tr>\n",
       "      <th>福建省</th>\n",
       "      <td>0.038745</td>\n",
       "      <td>0.035556</td>\n",
       "    </tr>\n",
       "    <tr>\n",
       "      <th>西藏自治区</th>\n",
       "      <td>0.000000</td>\n",
       "      <td>0.500000</td>\n",
       "    </tr>\n",
       "    <tr>\n",
       "      <th>贵州省</th>\n",
       "      <td>0.029762</td>\n",
       "      <td>0.042781</td>\n",
       "    </tr>\n",
       "    <tr>\n",
       "      <th>辽宁省</th>\n",
       "      <td>0.032051</td>\n",
       "      <td>0.014577</td>\n",
       "    </tr>\n",
       "    <tr>\n",
       "      <th>重庆</th>\n",
       "      <td>0.080189</td>\n",
       "      <td>0.053846</td>\n",
       "    </tr>\n",
       "    <tr>\n",
       "      <th>陕西省</th>\n",
       "      <td>0.057143</td>\n",
       "      <td>0.029032</td>\n",
       "    </tr>\n",
       "    <tr>\n",
       "      <th>青海省</th>\n",
       "      <td>0.060606</td>\n",
       "      <td>0.032258</td>\n",
       "    </tr>\n",
       "    <tr>\n",
       "      <th>黑龙江省</th>\n",
       "      <td>0.023392</td>\n",
       "      <td>0.016878</td>\n",
       "    </tr>\n",
       "  </tbody>\n",
       "</table>\n",
       "</div>"
      ],
      "text/plain": [
       "最早购买年月    2017-12-01  2018-01-01\n",
       "省份                              \n",
       "上海          0.050441    0.032569\n",
       "云南省         0.040359    0.033210\n",
       "内蒙古自治区      0.022727    0.007246\n",
       "北京          0.041026    0.030695\n",
       "吉林省         0.037037    0.029240\n",
       "四川省         0.068127    0.036072\n",
       "天津          0.035398    0.031111\n",
       "宁夏回族自治区     0.000000    0.029412\n",
       "安徽省         0.048193    0.029545\n",
       "山东省         0.039936    0.021978\n",
       "山西省         0.069652    0.027273\n",
       "广东省         0.043632    0.026950\n",
       "广西壮族自治区     0.037815    0.019802\n",
       "新疆维吾尔自治区    0.011364    0.019608\n",
       "江苏省         0.032694    0.029440\n",
       "江西省         0.035714    0.034591\n",
       "河北省         0.057325    0.020000\n",
       "河南省         0.030075    0.029851\n",
       "浙江省         0.046358    0.029806\n",
       "海南省         0.060976    0.033613\n",
       "湖北省         0.037402    0.017002\n",
       "湖南省         0.061947    0.029478\n",
       "甘肃省         0.000000    0.030612\n",
       "福建省         0.038745    0.035556\n",
       "西藏自治区       0.000000    0.500000\n",
       "贵州省         0.029762    0.042781\n",
       "辽宁省         0.032051    0.014577\n",
       "重庆          0.080189    0.053846\n",
       "陕西省         0.057143    0.029032\n",
       "青海省         0.060606    0.032258\n",
       "黑龙江省        0.023392    0.016878"
      ]
     },
     "execution_count": 414,
     "metadata": {},
     "output_type": "execute_result"
    }
   ],
   "source": [
    "#统计12、1月新客回购比\n",
    "(newcushuigou_diyu_per_M/newcus_diyu_per_M).iloc[:,14:16]"
   ]
  },
  {
   "cell_type": "markdown",
   "metadata": {},
   "source": [
    "新客留存分析同总体的留存分析一样，只不过新客更加需要考虑线上流量来源的留存率，这关系到渠道客群质量的好坏，但是由于很难跟踪，所以无法计算"
   ]
  },
  {
   "cell_type": "markdown",
   "metadata": {},
   "source": [
    "## 营销方案比较(第二件半价和买2送1)"
   ]
  },
  {
   "cell_type": "markdown",
   "metadata": {},
   "source": [
    "**不同时段的促销方案**  \n",
    "由于每月人均购买次数基本上就等于1，所以每月人均购买金额近似客单价。  \n",
    "在2017年3月之前，客单价都低于65元，这是由于产品只有小规格，单价比较低。  \n",
    "从3月开始推出了大规格产品，提升了单价，并且每月都有买2免1的活动,每月购买2件以上的人数占比极本都在30%以上。  \n",
    "从10月到12月，活动方案改成了第二件半价。从1月开始活动方案改成了买2送1(送的产品价值28)。  "
   ]
  },
  {
   "cell_type": "code",
   "execution_count": 9,
   "metadata": {
    "collapsed": true
   },
   "outputs": [],
   "source": [
    "wang_month_grouped=order_df.groupby(['买家旺旺','付款年月']).宝贝数量.sum().reset_index()"
   ]
  },
  {
   "cell_type": "code",
   "execution_count": 10,
   "metadata": {
    "collapsed": true
   },
   "outputs": [],
   "source": [
    "morethan1p_per_M=wang_month_grouped[wang_month_grouped.宝贝数量>1].groupby('付款年月').宝贝数量.count()\\\n",
    "/(wang_month_grouped.groupby('付款年月').宝贝数量.count())"
   ]
  },
  {
   "cell_type": "code",
   "execution_count": 11,
   "metadata": {
    "collapsed": false
   },
   "outputs": [
    {
     "data": {
      "text/plain": [
       "付款年月\n",
       "2016-10-01    0.032907\n",
       "2016-11-01    0.114729\n",
       "2016-12-01    0.251519\n",
       "2017-01-01    0.300631\n",
       "2017-02-01    0.219632\n",
       "2017-03-01    0.349604\n",
       "2017-04-01    0.283983\n",
       "2017-05-01    0.321505\n",
       "2017-06-01    0.326541\n",
       "2017-07-01    0.369643\n",
       "2017-08-01    0.381301\n",
       "2017-09-01    0.271328\n",
       "2017-10-01    0.175608\n",
       "2017-11-01    0.331345\n",
       "2017-12-01    0.293983\n",
       "2018-01-01    0.192305\n",
       "2018-02-01    0.153886\n",
       "2018-03-01    0.185648\n",
       "2018-04-01    0.179240\n",
       "Name: 宝贝数量, dtype: float64"
      ]
     },
     "execution_count": 11,
     "metadata": {},
     "output_type": "execute_result"
    }
   ],
   "source": [
    "morethan1p_per_M"
   ]
  },
  {
   "cell_type": "code",
   "execution_count": 12,
   "metadata": {
    "collapsed": false
   },
   "outputs": [
    {
     "data": {
      "text/plain": [
       "<matplotlib.text.Text at 0x115a36390>"
      ]
     },
     "execution_count": 12,
     "metadata": {},
     "output_type": "execute_result"
    },
    {
     "data": {
      "image/png": "[encoded data removed]",
      "text/plain": [
       "<matplotlib.figure.Figure at 0x119fe2048>"
      ]
     },
     "metadata": {},
     "output_type": "display_data"
    }
   ],
   "source": [
    "morethan1p_per_M.plot(figsize=(12,4))\n",
    "plt.title('每月购买2件及以上用户占比',fontsize=20)"
   ]
  },
  {
   "cell_type": "markdown",
   "metadata": {},
   "source": [
    "第二件半价(7.5折)改成买2件送小盒装(四分之一盒,8.8折)后，买2件及以上的人为20%(10%参与满赠活动，10%参与优惠券满减)，之前为30%,参与活动单价为141，之前为109."
   ]
  },
  {
   "cell_type": "code",
   "execution_count": 20,
   "metadata": {
    "collapsed": false
   },
   "outputs": [
    {
     "data": {
      "text/plain": [
       "-0.01394169835234474"
      ]
     },
     "execution_count": 20,
     "metadata": {},
     "output_type": "execute_result"
    }
   ],
   "source": [
    "#计算促销方式的改变最终带来的活动销售额的增减\n",
    "((66*80+141*10+109*10)-(66*70+109*30))/(66*70+109*30)"
   ]
  },
  {
   "cell_type": "code",
   "execution_count": 23,
   "metadata": {
    "collapsed": false
   },
   "outputs": [
    {
     "data": {
      "text/plain": [
       "0.08972883656427956"
      ]
     },
     "execution_count": 23,
     "metadata": {},
     "output_type": "execute_result"
    }
   ],
   "source": [
    "#计算促销方式的改变最终带来的活动利润的增减\n",
    "((66*80*0.5+141*10*0.43+109*10*0.41)-(66*70*0.5+109*30*0.33))/(66*70*0.5+109*30*0.33)"
   ]
  },
  {
   "cell_type": "markdown",
   "metadata": {},
   "source": [
    "可以看出，总购买人数相等的情况下，买2送1会导致活动销售额下降1.4%，但是利润上涨了9%。所以最终看KPI定是否改变方案"
   ]
  }
 ],
 "metadata": {
  "kernelspec": {
   "display_name": "Python 3",
   "language": "python",
   "name": "python3"
  },
  "language_info": {
   "codemirror_mode": {
    "name": "ipython",
    "version": 3
   },
   "file_extension": ".py",
   "mimetype": "text/x-python",
   "name": "python",
   "nbconvert_exporter": "python",
   "pygments_lexer": "ipython3",
   "version": "3.6.0"
  }
 },
 "nbformat": 4,
 "nbformat_minor": 2
}
